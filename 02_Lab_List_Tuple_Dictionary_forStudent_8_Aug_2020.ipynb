{
 "cells": [
  {
   "cell_type": "markdown",
   "metadata": {
    "id": "Ua-HBUqz3tBT"
   },
   "source": [
    "# Dictionary, List, Tuple in Python\n",
    "                                          "
   ]
  },
  {
   "cell_type": "markdown",
   "metadata": {
    "id": "dWgd_OoX3tBZ"
   },
   "source": [
    "## Dictionary\n",
    "\n",
    "\n",
    " * ประเภทข้อมูลที่เก็บข้อมูลในรูปแบบคู่ของ Key และ Value โดยที่ Key ใช้สำหรับเป็น Index ในการเข้าถึงข้อมูล มีค่าที่เป็น unique ไม่ควรซ้ำกัน และ เป็น Datatype ประเภท Strings, numbers และ Tuples ส่วน Value  เป็นค่าข้อมูลที่สอดคล้องกับ Key สามารถเป็น Datatype ประเภทใดก็ได้ โดยรูปแบบของตัวแปรของ Dictionary คือ\n",
    "   \n",
    "                 variable = {key : value}  และคั่นสมาชิกแต่ละตัวด้วยเครื่องหมายคอมมา (,)  \n",
    " \n",
    " \n",
    " \n",
    " \n",
    " ### การประกาศค่าลงไปใน Dictionary \n",
    "\n",
    "   * ในการใช้งาน Dictionary มักจะใช้เก็บข้อมูลที่สามารถใช้บางอย่างที่สามารถจำแนกข้อมูลออกจากกันได้ โดยกำหนดให้สิ่งนั้นเป็น Key ในการประกาศ Dictionary สมาชิกของมันจะอยู่ภายในวงเล็บปีกกา {}  \n",
    "           โดยมีรูปแบบการประกาศได้ 3 รูปแบบดังนี้\n",
    " \n",
    " \n",
    " 1. เป็นการประกาศ Dictionary ว่าง"
   ]
  },
  {
   "cell_type": "code",
   "execution_count": 6,
   "metadata": {
    "id": "QYj9Fm823tBd",
    "outputId": "20af6cb4-f7c7-4a06-be7a-4d29758df113"
   },
   "outputs": [
    {
     "name": "stdout",
     "output_type": "stream",
     "text": [
      "{}\n"
     ]
    }
   ],
   "source": [
    "my_fruit = {}\n",
    "print(my_fruit)"
   ]
  },
  {
   "cell_type": "markdown",
   "metadata": {
    "id": "nrZDG8k93tBj"
   },
   "source": [
    " 2. เป็นการประกาศ Dictionary ที่มี keys เป็น integer"
   ]
  },
  {
   "cell_type": "code",
   "execution_count": null,
   "metadata": {
    "id": "POht2Azx3tBm",
    "outputId": "d8f36775-df88-4fb3-f989-6497f79fe335"
   },
   "outputs": [
    {
     "name": "stdout",
     "output_type": "stream",
     "text": [
      "{1: 'orange', 2: 'cherry', 3: 'grape', 4: 'peach', 5: 'melon'}\n"
     ]
    }
   ],
   "source": [
    "# ตัวอย่างข้อมูล 1:'orange',2:'cherry',3:'grape',4:'peach',5:'melon'\n",
    "# print(my_fruit)"
   ]
  },
  {
   "cell_type": "markdown",
   "metadata": {
    "id": "kf09JX0K3tBo"
   },
   "source": [
    "3. เป็นการประกาศ Dictionary ที่มี keys และ value เป็น Datatype ที่แตกต่างกัน"
   ]
  },
  {
   "cell_type": "code",
   "execution_count": 1,
   "metadata": {
    "colab": {
     "base_uri": "https://localhost:8080/"
    },
    "id": "R2nKDU643tBq",
    "outputId": "fdbeaa2f-9008-44a7-e6af-1d61aa2267ad"
   },
   "outputs": [
    {
     "name": "stdout",
     "output_type": "stream",
     "text": [
      "{'name': 'Somying', 'phone_no': '0815879999', 1: 'orange', 2: 'cherry', 3: 'grape', 4: 'peach', 5: 'melon'}\n"
     ]
    }
   ],
   "source": [
    "# my_fruit_person\n",
    "# ตัวอย่างข้อมูล 'name': 'Somying', 'phone_no': '0815879999', 1:'orange',2:'cherry',3:'grape',4:'peach',5:'melon' \n",
    "# print(my_person)"
   ]
  },
  {
   "cell_type": "markdown",
   "metadata": {
    "id": "SxPZ3Xrd3tBs"
   },
   "source": [
    "### การเข้าถึงข้อมูลภายใน Dictionary\n",
    "\n",
    "* เป็นการเข้าถึงข้อมูลเพื่ออ่านค่าที่ต้องการโดยผ่านทาง key เพื่อบอกตำแหน่งที่ต้องการเข้าถึงและครอบด้วยวงเล็บเหลี่ยม [       ] ผลลัพธ์จะได้ value ที่เชื่อมกับ key นั้นและหากเข้าถึง key ที่ไม่มีใน dictionary จะทำให้เกิด error\n",
    "        ตัวอย่างเช่น \n"
   ]
  },
  {
   "cell_type": "code",
   "execution_count": null,
   "metadata": {
    "id": "YVsEmARU3tBv",
    "outputId": "ab4afcea-afef-4d13-df29-f4f399d3a4fa"
   },
   "outputs": [
    {
     "name": "stdout",
     "output_type": "stream",
     "text": [
      "my name is  Somying ,I like  orange\n"
     ]
    }
   ],
   "source": [
    "# print(\"my name is \", my_fruit_person['what_index'], \",I like \", my_fruit_person['what_index'])"
   ]
  },
  {
   "cell_type": "markdown",
   "metadata": {
    "id": "xDQRoN7L3tBx"
   },
   "source": [
    "### การอัพเดตหรือเพิ่มข้อมูลใน Dictionary\n",
    "\n",
    "\n",
    "* ในการเพิ่มข้อมูลใน Dictionary ใน python จะต้องระบุค่า key และ value ที่ต้องการอัพเดตหรือเพิ่ม \n",
    "โดยการอัพเดตข้อมูลนั้นจะต้องมี key ตรงกับ key ที่มีอยู่เดิมใน dictionary จะทำให้ value ใหม่เข้าไปแทนที่ value ที่อยู่ใน key นั้นแต่ถ้าเป็นการเพิ่มข้อมูล key ใหม่สามารถเพิ่ม value ได้เลย\n",
    "\n",
    "* รูปแบบการอัพเดตและเพิ่มข้อมูล\n",
    "                   name_dict[key] = value      \n",
    "                  * name_dict คือชื่อของ dictionary\n",
    "  \n",
    "  \n",
    "  \n",
    "      ยกตัวอย่างการอัพเดตข้อมูล \n",
    "    "
   ]
  },
  {
   "cell_type": "code",
   "execution_count": 2,
   "metadata": {
    "id": "z8frDy-_3tBz",
    "outputId": "2b6fc44f-6354-4ccc-d8eb-cf4db82ab4a8"
   },
   "outputs": [
    {
     "name": "stdout",
     "output_type": "stream",
     "text": [
      "before update :  {1: 'orange', 2: 'cherry', 3: 'grape', 4: 'peach', 5: 'melon'}\n",
      "after update   :  {1: 'orange', 2: 'cherry', 3: 'grape', 4: 'peach', 5: 'melon', 6: 'longan'}\n"
     ]
    }
   ],
   "source": [
    "my_fruit = {1:'orange',2:'cherry',3:'grape',4:'peach',5:'melon'}\n",
    "print(\"before update : \" , my_fruit)\n",
    "# update here area\n",
    "\n",
    "#'longan' \n",
    "my_fruit[6] = 'longan'\n",
    "# update here area \n",
    "print(\"after update   : \", my_fruit)"
   ]
  },
  {
   "cell_type": "markdown",
   "metadata": {
    "id": "HQT993J23tB0"
   },
   "source": [
    "     ยกตัวอย่างการเพิ่มข้อมูล"
   ]
  },
  {
   "cell_type": "code",
   "execution_count": 10,
   "metadata": {
    "id": "60taqqv93tB1",
    "outputId": "caca38b7-7ec1-4670-ec2b-6b34e974c734"
   },
   "outputs": [
    {
     "name": "stdout",
     "output_type": "stream",
     "text": [
      "before update :  {1: 'orange', 2: 'cherry', 3: 'grape', 4: 'peach', 5: 'melon'}\n",
      "after update   :  {1: 'orange', 2: 'cherry', 3: 'grape', 4: 'peach', 5: 'melon', 6: 'lychee'}\n"
     ]
    }
   ],
   "source": [
    "my_fruit = {1:'orange',2:'cherry',3:'grape',4:'peach',5:'melon'}\n",
    "print(\"before update : \" , my_fruit)\n",
    "# Add here area\n",
    "\n",
    "#'lychee'    \n",
    "my_fruit.update({6:'lychee'})\n",
    "# Add here area                \n",
    "print(\"after update   : \", my_fruit)"
   ]
  },
  {
   "cell_type": "markdown",
   "metadata": {
    "id": "sHYikLYs3tB3"
   },
   "source": [
    "### การลบข้อมูลใน Dictionary\n",
    "\n",
    "* การลบข้อมูลใน Dictionary สามารถลบข้อมูลที่ต้องการได้โดยใช้คำสั่ง del โดยมีรูปแบบดังนี้\n",
    "                    del name_dict[key]           \n",
    "                    * name_dict คือชื่อของ dictionary\n",
    "               \n",
    "     ตัวอย่างเช่น"
   ]
  },
  {
   "cell_type": "code",
   "execution_count": 3,
   "metadata": {
    "id": "KeCcCPdK3tB4",
    "outputId": "0362062d-f860-4c6c-eb16-1e82a7215cf6"
   },
   "outputs": [
    {
     "name": "stdout",
     "output_type": "stream",
     "text": [
      "{1: 'orange', 2: 'cherry', 3: 'grape', 4: 'peach', 5: 'melon'}\n",
      "{1: 'orange', 2: 'cherry', 4: 'peach', 5: 'melon'}\n"
     ]
    }
   ],
   "source": [
    "print(my_fruit)\n",
    "del my_fruit[3] \n",
    "print(my_fruit)"
   ]
  },
  {
   "cell_type": "markdown",
   "metadata": {
    "id": "Q6F8HIrz3tB4"
   },
   "source": [
    "* หากต้องการลบ key และ value ทั้งหมดใน dictionary จะต้องใช้ method clear() มีรูปแบบดังนี้\n",
    "                name_dict.clear() \n",
    "                * name_dict คือชื่อของ dictionary\n",
    "  ตัวอย่างเช่น"
   ]
  },
  {
   "cell_type": "code",
   "execution_count": 4,
   "metadata": {
    "id": "7GKPqcEx3tB5",
    "outputId": "0317359c-cb9a-417f-89bf-4f4de12c7c3b"
   },
   "outputs": [
    {
     "name": "stdout",
     "output_type": "stream",
     "text": [
      "before :  {1: 'orange', 2: 'cherry', 3: 'grape', 4: 'peach', 5: 'melon'}\n",
      "afrer :  {}\n"
     ]
    }
   ],
   "source": [
    "my_fruit = {1:'orange',2:'cherry',3:'grape',4:'peach',5:'melon'}\n",
    "# remove all entries in dict method clear() \n",
    "print('before : ',my_fruit)\n",
    "my_fruit.clear()\n",
    "print('afrer : ',my_fruit)"
   ]
  },
  {
   "cell_type": "code",
   "execution_count": 8,
   "metadata": {
    "id": "coAFWJ_i3tB6",
    "outputId": "4a901e03-5e9c-4dc7-b916-e40862a04417"
   },
   "outputs": [
    {
     "name": "stdout",
     "output_type": "stream",
     "text": [
      "{1: 'orange', 2: 'cherry', 4: 'peach', 5: 'melon'}\n"
     ]
    }
   ],
   "source": [
    "#ใช้คำสั่ง pop เพื่อ remove ข้อมูลใน dictionary method pop()\n",
    "my_fruit = {1:'orange',2:'cherry',3:'grape',4:'peach',5:'melon'}\n",
    "#your code here !\n",
    "my_fruit.pop(3)\n",
    "\n",
    "print(my_fruit)"
   ]
  },
  {
   "cell_type": "markdown",
   "metadata": {
    "id": "yZbpHrOZ3tB7"
   },
   "source": [
    "* หากต้องการลบตัวแปร dictionary มีรูปแบบดังนี้\n",
    "                del name_dict             \n",
    "                * name_dict คือชื่อของ dictionary\n",
    "     ตัวอย่างเช่น"
   ]
  },
  {
   "cell_type": "code",
   "execution_count": 11,
   "metadata": {
    "id": "cOTvUyW83tB7",
    "outputId": "c61c7443-43b2-4aa0-88c4-034decb8b5fe"
   },
   "outputs": [
    {
     "name": "stdout",
     "output_type": "stream",
     "text": [
      "{1: 'orange', 2: 'cherry', 4: 'peach', 5: 'melon'}\n"
     ]
    }
   ],
   "source": [
    "my_fruit = {1:'orange',2:'cherry',3:'grape',4:'peach',5:'melon'}\n",
    "# remove all entries in dict\n",
    "\n",
    "#your code \n",
    "del my_fruit[3]\n",
    "\n",
    "print(my_fruit) # เมื่อ print my_fruit จะ error"
   ]
  },
  {
   "cell_type": "markdown",
   "metadata": {
    "id": "xZUyjjVb3tB8"
   },
   "source": [
    "### การอ่านค่าใน Dictionary ด้วยคำสั่ง For loop\n",
    "\n",
    "\n",
    "* คำสั่ง For loop นั้นเป็นคำสั่งที่ยืดหยุ่นและสามารถใช้งานได้อย่างหลากหลาย ในการอ่านค่าใน Dictionary นั้นสามารถใช้ For loop เพื่อวนอ่านค่าทั้ง Key และ Values ใน Dictionary ได้\n",
    "\n",
    "    \n",
    "    \n",
    " 1. เป็นการวน loop อ่านค่า keys และ values โดยใช้ method items()  \n",
    " \n",
    " \n",
    " ยกตัวอย่างเช่น "
   ]
  },
  {
   "cell_type": "code",
   "execution_count": 7,
   "metadata": {
    "colab": {
     "base_uri": "https://localhost:8080/"
    },
    "id": "eg8fiqet3tB9",
    "outputId": "c234eda5-9be0-47e7-ad5c-b0bf9ccf5e53"
   },
   "outputs": [
    {
     "name": "stdout",
     "output_type": "stream",
     "text": [
      "1 orange\n",
      "2 cherry\n",
      "3 grape\n",
      "4 peach\n",
      "5 melon\n",
      "name somchai\n"
     ]
    }
   ],
   "source": [
    "my_fruit = {1:'orange',2:'cherry',3:'grape',4:'peach',5:'melon', \"name\":\"somchai\"}\n",
    "#เป็นการวน loop อ่านค่า keys และ values โดยใช้ method items()\n",
    "for i,j in my_fruit.items() :\n",
    "    print(i,j)"
   ]
  },
  {
   "cell_type": "markdown",
   "metadata": {
    "id": "YuRrbE473tB9"
   },
   "source": [
    "2. เป็นการวน loop อ่านค่า keys ทั้งหมดภายใน Dictionary โดยใช้ method keys() \n",
    "\n",
    "ยกตัวอย่างเช่น"
   ]
  },
  {
   "cell_type": "code",
   "execution_count": 12,
   "metadata": {
    "colab": {
     "base_uri": "https://localhost:8080/"
    },
    "id": "rrwsWuO73tB-",
    "outputId": "c35fab49-1b72-4c14-ead4-0b873e7caff7"
   },
   "outputs": [
    {
     "name": "stdout",
     "output_type": "stream",
     "text": [
      "Key: 1 2 3 4 5 "
     ]
    }
   ],
   "source": [
    "my_fruit = {1:'orange',2:'cherry',3:'grape',4:'peach',5:'melon'}\n",
    "# iterate through keys\n",
    "print('Key:', end = ' ')\n",
    "# เป็นการวน loop อ่านค่า keys ทั้งหมดภายใน Dictionary โดยใช้ method keys()\n",
    "for i in my_fruit.keys() :\n",
    "    print(i,end=\" \")"
   ]
  },
  {
   "cell_type": "markdown",
   "metadata": {
    "id": "zzKdnSM63tB-"
   },
   "source": [
    "3. เป็นการวน loop อ่านค่า values ทั้งหมดภายใน Dictionary โดยใช้ method values() \n",
    "\n",
    "ยกตัวอย่างเช่น"
   ]
  },
  {
   "cell_type": "code",
   "execution_count": 14,
   "metadata": {
    "colab": {
     "base_uri": "https://localhost:8080/"
    },
    "id": "ac2GEwgB3tB-",
    "outputId": "d4461d3d-5939-4c0f-e6f1-ea30f0572045"
   },
   "outputs": [
    {
     "name": "stdout",
     "output_type": "stream",
     "text": [
      "Value: orange cherry grape peach melon "
     ]
    }
   ],
   "source": [
    "my_fruit = {1:'orange',2:'cherry',3:'grape',4:'peach',5:'melon'}\n",
    "# iterate through values\n",
    "print('Value:', end = ' ')\n",
    "# เป็นการวน loop อ่านค่า values ทั้งหมดภายใน Dictionary โดยใช้ method values()\n",
    "for v in my_fruit.values() :\n",
    "    print(v,end = ' ')"
   ]
  },
  {
   "cell_type": "markdown",
   "metadata": {
    "id": "Vn2JRU4K3tB_"
   },
   "source": [
    "### คุณสมบัติของ keys ใน Dictionary\n",
    "\n",
    "* ไม่อนุญาตให้เพิ่มข้อมูลมากกว่า 1 value ต่อ  1 key ซึ่งหมายความว่าไม่อนุญาตให้มี key ซ้ำกัน แต่ถ้ามี key ซ้ำกันระหว่างการ assignment ผลลัพธ์จะเป็นการ assignment ล่าสุด\n",
    "\n",
    "\n",
    "ยกตัวอย่างเช่น\n"
   ]
  },
  {
   "cell_type": "code",
   "execution_count": 15,
   "metadata": {
    "colab": {
     "base_uri": "https://localhost:8080/"
    },
    "id": "RKSINJEO3tB_",
    "outputId": "ff9a99fc-f747-49ff-a333-7432a6ef5d1c"
   },
   "outputs": [
    {
     "name": "stdout",
     "output_type": "stream",
     "text": [
      "dict ['Name']:  Manni\n"
     ]
    }
   ],
   "source": [
    "dict = {'Name': 'Zara', 'Age': 7, 'Name': 'Manni'}  #duplicate keys\n",
    "# print (\"dict['Name']: \", ??? )\n",
    "print(\"dict ['Name']: \",dict['Name'])"
   ]
  },
  {
   "cell_type": "markdown",
   "metadata": {
    "id": "4QSIQLrF3tCA"
   },
   "source": [
    "* keys สามารถเป็น Datatype ได้เพียง 3 ประเภทคือ Strings, Numbers และ Tuples หากไม่อยู่ในทั้ง 3 ประเภทนี้จะเกิด error"
   ]
  },
  {
   "cell_type": "code",
   "execution_count": 16,
   "metadata": {
    "id": "PfoFbXBE3tCA"
   },
   "outputs": [
    {
     "ename": "SyntaxError",
     "evalue": "unexpected EOF while parsing (Temp/ipykernel_9204/2417456703.py, line 3)",
     "output_type": "error",
     "traceback": [
      "\u001b[1;36m  File \u001b[1;32m\"C:\\Users\\user\\AppData\\Local\\Temp/ipykernel_9204/2417456703.py\"\u001b[1;36m, line \u001b[1;32m3\u001b[0m\n\u001b[1;33m    print(\"dict['Name'] : \",dict[['Name']]\u001b[0m\n\u001b[1;37m                                          ^\u001b[0m\n\u001b[1;31mSyntaxError\u001b[0m\u001b[1;31m:\u001b[0m unexpected EOF while parsing\n"
     ]
    }
   ],
   "source": [
    "dict = {['Name']: 'Zara', 'Age': 7} #['Name'] is not Strings, numbers and tuples\n",
    "# print (\"dict['Name']: \", ??? )\n",
    "print(\"dict['Name'] : \",dict[['Name']]"
   ]
  },
  {
   "cell_type": "markdown",
   "metadata": {
    "id": "719nL0tL3tCA"
   },
   "source": [
    "### Built-in Dictionary Functions \n",
    "\n",
    "\n",
    "1. len(dict) เป็นฟังก์ชั่นที่จะ return ค่ากลับเป็นจำนวนของวัตถุใน Dictionary"
   ]
  },
  {
   "cell_type": "code",
   "execution_count": 17,
   "metadata": {
    "id": "CyYzN5Oy3tCA"
   },
   "outputs": [
    {
     "name": "stdout",
     "output_type": "stream",
     "text": [
      "Length is :  4\n"
     ]
    }
   ],
   "source": [
    "fruit = {1 : 'Apple' , 2 : 'Orange' , 3 : 'Grape' , 4 : 'Banana'}\n",
    "# print('Length is' , ??? )\n",
    "print('Length is : ',len(fruit))"
   ]
  },
  {
   "cell_type": "markdown",
   "metadata": {
    "id": "4OdFkw0N3tCB"
   },
   "source": [
    "  2. sorted (dict[,reverse]) เป็นฟังก์ชั่นที่จะ return ค่ากลับเป็น value ใน Dictionary ที่ถูกเรียงลำดับจากน้อยไปมาก โดยถ้า set ค่า reverse เป็น True จะทำให้เรียงแบบย้อนกลับจากมากไปน้อย"
   ]
  },
  {
   "cell_type": "code",
   "execution_count": 22,
   "metadata": {
    "colab": {
     "base_uri": "https://localhost:8080/"
    },
    "id": "ZdxFfczF3tCB",
    "outputId": "de3f53da-667c-457b-ab5e-4527749b365e"
   },
   "outputs": [
    {
     "name": "stdout",
     "output_type": "stream",
     "text": [
      "['Age', 'Name']\n",
      "Equivalent String : {'Name': 'Zara', 'Age': 7}\n"
     ]
    }
   ],
   "source": [
    "dict = {'Name': 'Zara', 'Age': 7};\n",
    "print(sorted(dict))\n",
    "print (\"Equivalent String : %s\" % str (dict))\n",
    "# print(type((dict)))\n"
   ]
  },
  {
   "cell_type": "markdown",
   "metadata": {
    "id": "7Id6kqE33tCB"
   },
   "source": [
    "### Dictionary Methods\n",
    "\n",
    "* methods ช่วยให้ทำงานได้ง่ายขึ้น โดยส่วนมากจะใช้ methods เพื่ออัพเดตและรับข้อมูลภายใน Dictionary \n",
    "\n",
    "\n",
    "1. clear() เป็นเมธอดที่ใช้ในการลบข้อมูลภายใน Dictionary ทั้งหมด"
   ]
  },
  {
   "cell_type": "code",
   "execution_count": null,
   "metadata": {
    "id": "0HbqpmQM3tCC"
   },
   "outputs": [],
   "source": [
    "dict = {'Name': 'Zara', 'Age': 7, 'Class': 'First'}\n"
   ]
  },
  {
   "cell_type": "markdown",
   "metadata": {
    "id": "HdcGz8Nw3tCC"
   },
   "source": [
    "  2. copy() เป็นเมธอดที่ใช้ในการคัดลอกข้อมูลภายใน Dictionary  "
   ]
  },
  {
   "cell_type": "code",
   "execution_count": 23,
   "metadata": {
    "id": "OfxKzr7t3tCC"
   },
   "outputs": [
    {
     "name": "stdout",
     "output_type": "stream",
     "text": [
      "{'Name': 'Zara', 'Age': 7, 'Class': 'First'}\n",
      "{'Name': 'Zara', 'Age': 7, 'Class': 'First'}\n"
     ]
    }
   ],
   "source": [
    "dict = {'Name': 'Zara', 'Age': 7, 'Class': 'First'}\n",
    "print(dict)\n",
    "\n",
    "new_dict = dict.copy()\n",
    "print(new_dict)"
   ]
  },
  {
   "cell_type": "markdown",
   "metadata": {
    "id": "8Py1j9013tCC"
   },
   "source": [
    "  3.  get(key[, default])  เป็นเมธอดเพื่อเข้าถึงข้อมูล(value) และส่งค่าข้อมูลใน Dictionary จาก Key ที่กำหนด ถ้าหากไม่มี Key อยู่และไม่ได้กำหนด default จะส่งค่ากลับเป็น ‘None’ "
   ]
  },
  {
   "cell_type": "code",
   "execution_count": 43,
   "metadata": {
    "colab": {
     "base_uri": "https://localhost:8080/"
    },
    "id": "tP1waYpN3tCD",
    "outputId": "2a40fdcb-dac4-4817-e049-44a295088812"
   },
   "outputs": [
    {
     "name": "stdout",
     "output_type": "stream",
     "text": [
      "Value : no\n"
     ]
    }
   ],
   "source": [
    "dict = {'Name': 'Zabra', 'Age': 7}\n",
    "# print (\"Value : %s\" %  dict.get('Age'))\n",
    "print(\"Value : %s\" %  dict.get( 'Panuwat' ,  'no' ))"
   ]
  },
  {
   "cell_type": "markdown",
   "metadata": {
    "id": "7ru6Yydj3tCD"
   },
   "source": [
    "* กรณีที่ไม่มี key ใน dictionary และไม่ได้กำหนด default จะส่งค่ากลับเป็น 'None'"
   ]
  },
  {
   "cell_type": "code",
   "execution_count": null,
   "metadata": {
    "id": "ABxYIA4M3tCD"
   },
   "outputs": [],
   "source": [
    "dict = {'Name': 'Zabra', 'Age': 7}\n",
    "print (dict.get('Education'))"
   ]
  },
  {
   "cell_type": "markdown",
   "metadata": {
    "id": "LtSxMfFY3tCD"
   },
   "source": [
    "   4. items() เป็นเมธอดที่สามารถส่งข้อมูล (key, value) ทั้งหมดใน Dictionary กลับมาเป็น List "
   ]
  },
  {
   "cell_type": "code",
   "execution_count": 29,
   "metadata": {
    "id": "HcK0P0DT3tCE"
   },
   "outputs": [
    {
     "name": "stdout",
     "output_type": "stream",
     "text": [
      "dict_items([(1, 'Germany'), (2, 'Ukraine'), (3, 'Thailand'), (4, 'Netherlands')])\n"
     ]
    }
   ],
   "source": [
    "countries = {1: 'Germany', 2: 'Ukraine',3: 'Thailand', 4: 'Netherlands'}\n",
    "\n",
    "# print(countries.what_method())\n",
    "print(countries.items())"
   ]
  },
  {
   "cell_type": "code",
   "execution_count": 30,
   "metadata": {
    "id": "PkqBI2sC3tCE"
   },
   "outputs": [
    {
     "data": {
      "text/plain": [
       "dict_items"
      ]
     },
     "execution_count": 30,
     "metadata": {},
     "output_type": "execute_result"
    }
   ],
   "source": [
    " display = countries.items()\n",
    "type(display)"
   ]
  },
  {
   "cell_type": "markdown",
   "metadata": {
    "id": "YuZnR4523tCE"
   },
   "source": [
    "   5. keys() เป็นเมธอดที่จะส่ง keys ทั้งหมดใน Dictionary กลับมาเป็น List"
   ]
  },
  {
   "cell_type": "code",
   "execution_count": 32,
   "metadata": {
    "id": "s-RkEbAp3tCE"
   },
   "outputs": [
    {
     "name": "stdout",
     "output_type": "stream",
     "text": [
      "dict_keys([1, 2, 3, 4])\n"
     ]
    }
   ],
   "source": [
    "countries = {1: 'Germany', 2: 'Ukraine',3: 'Thailand', 4: 'Netherlands'}\n",
    "\n",
    "print(countries.keys())"
   ]
  },
  {
   "cell_type": "markdown",
   "metadata": {
    "id": "nHezJMNr3tCF"
   },
   "source": [
    "  6. values() เป็นเมธอดที่สามารถส่ง values ทั้งหมดใน Dictionary กลับมาเป็น List"
   ]
  },
  {
   "cell_type": "code",
   "execution_count": 41,
   "metadata": {
    "id": "y9SkmCv-3tCF"
   },
   "outputs": [
    {
     "name": "stdout",
     "output_type": "stream",
     "text": [
      "dict_values(['Germany', 'Ukraine', 'Thailand', 'Netherlands'])\n"
     ]
    }
   ],
   "source": [
    "countries = {1: 'Germany', 2: 'Ukraine',3: 'Thailand', 4: 'Netherlands'}\n",
    "\n",
    "print(countries.values())"
   ]
  },
  {
   "cell_type": "markdown",
   "metadata": {
    "id": "yzrsSduq3tCF"
   },
   "source": [
    "  7. fromkeys(seq[,value]) เป็นเมธอดเพื่อสร้าง variable ของ Dictionary โดยดึงค่าจาก List ที่กำหนดไว้แล้วมาเป็นค่า key ของ Dictionary ใหม่ หากไม่ได้กำหนดค่า value จะเป็น None แต่หากกำหนดค่าให้กับ value ทุก key จะมีค่าเท่ากับ value ที่กำหนดไว้\n",
    "  \n",
    " * กำหนดค่า value"
   ]
  },
  {
   "cell_type": "code",
   "execution_count": 40,
   "metadata": {
    "colab": {
     "base_uri": "https://localhost:8080/"
    },
    "id": "PQ1kVXf63tCF",
    "outputId": "a7098de7-d488-474c-9dea-04366c945cbc"
   },
   "outputs": [
    {
     "name": "stdout",
     "output_type": "stream",
     "text": [
      "{'Germany': [10], 'Thailand': [10], 'Laos': [10], 'China': [10]}\n"
     ]
    }
   ],
   "source": [
    "seq = ('Germany','Thailand','Laos','China')\n",
    "country = dict.fromkeys(seq,[10])\n",
    "print(country)"
   ]
  },
  {
   "cell_type": "markdown",
   "metadata": {
    "id": "4nyGdtrM3tCG"
   },
   "source": [
    "   * ไม่ได้กำหนดค่า value"
   ]
  },
  {
   "cell_type": "code",
   "execution_count": 42,
   "metadata": {
    "id": "c6st41mC3tCG"
   },
   "outputs": [
    {
     "name": "stdout",
     "output_type": "stream",
     "text": [
      "{'Germany': None, 'Thailand': None, 'Laos': None, 'China': None}\n"
     ]
    }
   ],
   "source": [
    "seq = ('Germany','Thailand','Laos','China')\n",
    "country = dict.fromkeys(seq)\n",
    "print(country)"
   ]
  },
  {
   "cell_type": "markdown",
   "metadata": {
    "id": "EifDLba23tCG"
   },
   "source": [
    "   8. pop(key[, default]) เป็นเมธอดใช้ในการดึงค่า value ของ Dictionary และลบออก และจำเป็นต้องกำหนดค่า key ที่ต้องการ หากไม่ได้ระบุจะทำให้ error"
   ]
  },
  {
   "cell_type": "code",
   "execution_count": 45,
   "metadata": {
    "id": "e3TLlKAk3tCG"
   },
   "outputs": [
    {
     "name": "stdout",
     "output_type": "stream",
     "text": [
      "Germany\n",
      "{2: 'Ukraine', 3: 'Thailand', 4: 'Netherlands'}\n"
     ]
    }
   ],
   "source": [
    "countries = {1: 'Germany', 2: 'Ukraine',3: 'Thailand', 4: 'Netherlands'}\n",
    "\n",
    "print(countries.pop(1))\n",
    "print(countries)\n"
   ]
  },
  {
   "cell_type": "markdown",
   "metadata": {
    "id": "qebBh41t3tCG"
   },
   "source": [
    "   9. popitem() เป็นเมธอดเพื่อดึงค่า key และ value ตัวสุดท้ายของ Dictionary และส่งกลับในรูปของ Tuple "
   ]
  },
  {
   "cell_type": "code",
   "execution_count": 47,
   "metadata": {
    "id": "vOkV6mmk3tCH"
   },
   "outputs": [
    {
     "name": "stdout",
     "output_type": "stream",
     "text": [
      "(4, 'Netherlands')\n"
     ]
    },
    {
     "data": {
      "text/plain": [
       "{1: 'Germany', 2: 'Ukraine', 3: 'Thailand'}"
      ]
     },
     "execution_count": 47,
     "metadata": {},
     "output_type": "execute_result"
    }
   ],
   "source": [
    "countries = {1: 'Germany', 2: 'Ukraine',3: 'Thailand', 4: 'Netherlands'}\n",
    "\n",
    "print(countries.popitem())\n",
    "countries"
   ]
  },
  {
   "cell_type": "markdown",
   "metadata": {
    "id": "5WgY0fvX3tCH"
   },
   "source": [
    "   10. update([other]) เป็นเมธอดเพื่ออัพเดตค่า value ที่ตรงกับ key ที่จะเปลี่ยน "
   ]
  },
  {
   "cell_type": "code",
   "execution_count": 48,
   "metadata": {
    "id": "sYB5mEt23tCH"
   },
   "outputs": [
    {
     "name": "stdout",
     "output_type": "stream",
     "text": [
      "{1: 'Germany', 2: 'Ukraine', 3: 'Thailand', 4: 'China'}\n"
     ]
    }
   ],
   "source": [
    "countries = {1: 'Germany', 2: 'Ukraine',3: 'Thailand', 4: 'Netherlands'}\n",
    "# data updaate 4:'China'\n",
    "\n",
    "countries.update({4:'China'})\n",
    "print(countries)"
   ]
  },
  {
   "cell_type": "markdown",
   "metadata": {
    "id": "9ZulGVFs3tCH"
   },
   "source": [
    " * กรณีที่ไม่มี key นั้นอยู่ใน Dictionary จะเป็นการเพิ่มข้อมูลใหม่"
   ]
  },
  {
   "cell_type": "code",
   "execution_count": 49,
   "metadata": {
    "id": "DLXW6-rh3tCH",
    "outputId": "80a462c5-2831-4734-bb25-7ded47767359"
   },
   "outputs": [
    {
     "name": "stdout",
     "output_type": "stream",
     "text": [
      "{1: 'Germany', 2: 'Ukraine', 3: 'Thailand', 4: 'Netherlands', 10: 'China'}\n"
     ]
    }
   ],
   "source": [
    "countries = {1: 'Germany', 2: 'Ukraine',3: 'Thailand', 4: 'Netherlands'}\n",
    "# data update 5:'China'\n",
    "\n",
    "countries.update({10:'China'})\n",
    "print(countries)"
   ]
  },
  {
   "cell_type": "markdown",
   "metadata": {
    "id": "T4MSf8s93tCI"
   },
   "source": [
    "# list"
   ]
  },
  {
   "cell_type": "code",
   "execution_count": 52,
   "metadata": {
    "id": "RddeeI153tCI",
    "outputId": "142cf290-2f1f-4d82-fad3-0b44ffe8efa5"
   },
   "outputs": [
    {
     "name": "stdout",
     "output_type": "stream",
     "text": [
      "H\n",
      "2\n"
     ]
    }
   ],
   "source": [
    "L = [\"Happy\", [2, 0, 1, 5]] \n",
    "\n",
    "#เรียก List ตัวแรก (ตำแหน่งที่ 0) \n",
    "print(L[0][0])\n",
    "# your code\n",
    "\n",
    "# เรียกตัวที่สอง (ตำแหน่งที่ 1) ของ List ตัวแรก\n",
    "print(L[1][0])\n",
    "# your code "
   ]
  },
  {
   "cell_type": "code",
   "execution_count": 54,
   "metadata": {
    "id": "caQVAhZi3tCI",
    "outputId": "f8b36be3-e907-4511-edd9-a8a8605447ae"
   },
   "outputs": [
    {
     "name": "stdout",
     "output_type": "stream",
     "text": [
      "p\n"
     ]
    }
   ],
   "source": [
    "my_list = ['p', 'r', 'o', 'b', 'e']\n",
    "# print(my_list[index])\n",
    "print(my_list[-5])"
   ]
  },
  {
   "cell_type": "code",
   "execution_count": 56,
   "metadata": {
    "id": "sixgKs503tCI",
    "outputId": "01d0ad29-87a3-415d-cd4c-e73ed078d3b7"
   },
   "outputs": [
    {
     "name": "stdout",
     "output_type": "stream",
     "text": [
      "['o', 'g', 'r', 'a']\n"
     ]
    }
   ],
   "source": [
    "my_list = ['p', 'r', 'o', 'g', 'r', 'a', 'm', 'i', 'z']\n",
    "\n",
    "#เรียก list ตั้งแต่ตำแหน่งที่ 2 จนถึง 5 \n",
    "print(my_list[2:6])"
   ]
  },
  {
   "cell_type": "code",
   "execution_count": 57,
   "metadata": {
    "id": "W8Ahiu2N3tCJ",
    "outputId": "1d6db40e-6205-4da5-dde5-e07b4829843d"
   },
   "outputs": [
    {
     "name": "stdout",
     "output_type": "stream",
     "text": [
      "['p', 'r', 'o', 'g']\n"
     ]
    }
   ],
   "source": [
    "\n",
    "#ตั้งแต่ตำแหน่งที่ 0 (จากด้านหน้า) จนถึงตำแหน่งที่ -5 (นับจากข้างหลัง)\n",
    "print(my_list[0:-5])"
   ]
  },
  {
   "cell_type": "code",
   "execution_count": 61,
   "metadata": {
    "id": "gWj1JO493tCJ",
    "outputId": "7724e989-ee97-4ec3-dd66-bfa6f054e421"
   },
   "outputs": [
    {
     "name": "stdout",
     "output_type": "stream",
     "text": [
      "['a', 'm', 'i', 'z']\n"
     ]
    }
   ],
   "source": [
    "\n",
    "#ตั้งแต่ตำแหน่งที่ 5 จนถึงตำแหน่งสุดท้าย\n",
    "print(my_list[5::])"
   ]
  },
  {
   "cell_type": "code",
   "execution_count": 62,
   "metadata": {
    "id": "1VKnBYFU3tCJ",
    "outputId": "06aacb52-a2b2-4519-9dc5-9273439b8eda"
   },
   "outputs": [
    {
     "name": "stdout",
     "output_type": "stream",
     "text": [
      "['p', 'r', 'o', 'g', 'r', 'a', 'm', 'i', 'z']\n"
     ]
    }
   ],
   "source": [
    "print(my_list[::])\n",
    "#ทุกตัว"
   ]
  },
  {
   "cell_type": "code",
   "execution_count": 64,
   "metadata": {
    "id": "AS73rF0d3tCJ",
    "outputId": "f51b9426-5b8a-45ea-dfef-2ff5aecba311"
   },
   "outputs": [
    {
     "name": "stdout",
     "output_type": "stream",
     "text": [
      "['physics', 'chemistry', 'cute', 2000]\n",
      "New value available at index 2 :  cute\n"
     ]
    }
   ],
   "source": [
    "list = ['physics', 'chemistry', 1997, 2000];\n",
    "# กำนดค่า list ในตำแหน่งที่เราต้องการ update ใหม่\n",
    "list[2] = 'cute'\n",
    "print (list)\n",
    "print (\"New value available at index 2 : \", list[2])"
   ]
  },
  {
   "cell_type": "code",
   "execution_count": 65,
   "metadata": {
    "id": "gx2ItxLN3tCK",
    "outputId": "4569db44-d3b0-405b-f400-6db838f2615f"
   },
   "outputs": [
    {
     "name": "stdout",
     "output_type": "stream",
     "text": [
      "[2, 11, 12, 13, 8]\n"
     ]
    }
   ],
   "source": [
    "odd = [2, 4, 6, 8]\n",
    "#เปลี่ยนค่าในตำแหน่งที่ 1 ถึง 3\n",
    "odd[1:3] = [11,12,13]\n",
    "print (odd)"
   ]
  },
  {
   "cell_type": "code",
   "execution_count": 66,
   "metadata": {
    "id": "TrPDBljb3tCK",
    "outputId": "28b0cb29-b50e-4293-8ded-14eef9d6a76f"
   },
   "outputs": [
    {
     "name": "stdout",
     "output_type": "stream",
     "text": [
      "[3, 0, 4]\n"
     ]
    }
   ],
   "source": [
    "odd = [0, 4]\n",
    "#แทรกเลข 3 ลงไปข้างตำแหน่งที่ 0\n",
    "odd.insert(0,3)\n",
    "print (odd)"
   ]
  },
  {
   "cell_type": "code",
   "execution_count": 67,
   "metadata": {
    "id": "ypqJYSzI3tCK",
    "outputId": "b0ece662-687b-4c54-daa4-ce36eed6570b"
   },
   "outputs": [
    {
     "name": "stdout",
     "output_type": "stream",
     "text": [
      "[3, 0, 4, 11, 56, 49, 54]\n"
     ]
    }
   ],
   "source": [
    "#ใช้ operatoe \"+\" ในการรวมเอา 2 list รวมเข้าด้วยกัน \n",
    "print(odd+[11,56,49,54])"
   ]
  },
  {
   "cell_type": "markdown",
   "metadata": {
    "id": "4ndrQ4oX3tCK"
   },
   "source": [
    "# tuple"
   ]
  },
  {
   "cell_type": "code",
   "execution_count": null,
   "metadata": {
    "id": "wbGnoSya3tCL",
    "outputId": "5cbf7c63-1dc2-4f70-ea49-ff1fb3b079d8"
   },
   "outputs": [
    {
     "ename": "TypeError",
     "evalue": "'tuple' object does not support item assignment",
     "output_type": "error",
     "traceback": [
      "\u001b[1;31m---------------------------------------------------------------------------\u001b[0m",
      "\u001b[1;31mTypeError\u001b[0m                                 Traceback (most recent call last)",
      "\u001b[1;32m<ipython-input-22-ae88f099d6c2>\u001b[0m in \u001b[0;36m<module>\u001b[1;34m\u001b[0m\n\u001b[0;32m      1\u001b[0m \u001b[0mmy_tuple\u001b[0m \u001b[1;33m=\u001b[0m \u001b[1;33m(\u001b[0m\u001b[1;36m4\u001b[0m\u001b[1;33m,\u001b[0m \u001b[1;36m2\u001b[0m\u001b[1;33m,\u001b[0m \u001b[1;36m3\u001b[0m\u001b[1;33m,\u001b[0m \u001b[1;33m[\u001b[0m\u001b[1;36m6\u001b[0m\u001b[1;33m,\u001b[0m \u001b[1;36m5\u001b[0m\u001b[1;33m]\u001b[0m\u001b[1;33m)\u001b[0m\u001b[1;33m\u001b[0m\u001b[1;33m\u001b[0m\u001b[0m\n\u001b[1;32m----> 2\u001b[1;33m \u001b[0mmy_tuple\u001b[0m\u001b[1;33m[\u001b[0m\u001b[1;36m1\u001b[0m\u001b[1;33m]\u001b[0m \u001b[1;33m=\u001b[0m \u001b[1;36m9\u001b[0m \u001b[1;31m#จะ error เนื่องจากไม่สามารถเปลี่ยนแปลงค่าใน tuple ได้\u001b[0m\u001b[1;33m\u001b[0m\u001b[1;33m\u001b[0m\u001b[0m\n\u001b[0m",
      "\u001b[1;31mTypeError\u001b[0m: 'tuple' object does not support item assignment"
     ]
    }
   ],
   "source": [
    "my_tuple = (4, 2, 3, [6, 5])\n",
    "my_tuple[1] = 9 #จะ error เนื่องจากไม่สามารถเปลี่ยนแปลงค่าใน tuple ได้"
   ]
  },
  {
   "cell_type": "code",
   "execution_count": 68,
   "metadata": {
    "id": "8gTWZ0HW3tCL"
   },
   "outputs": [
    {
     "data": {
      "text/plain": [
       "(4, 2, 3, 112)"
      ]
     },
     "execution_count": 68,
     "metadata": {},
     "output_type": "execute_result"
    }
   ],
   "source": [
    "#เพิ่มสมาชิกใน tuple เนื่องจาก tuple เป็น immutable ไม่สามารถเปลี่ยนแปลง tuple ได้โดยตรง\n",
    "#จึงต้องใช้การ merge ด้วย + operator เป็นการสร้าง tuple ใหม่\n",
    "my_tuple = (4, 2, 3) \n",
    "new_my_tuple=my_tuple+(112,)\n",
    "new_my_tuple\n",
    "# your code\n",
    "# new_my_tuple"
   ]
  },
  {
   "cell_type": "code",
   "execution_count": 3,
   "metadata": {
    "id": "L5A1iXdm3tCL"
   },
   "outputs": [
    {
     "name": "stdout",
     "output_type": "stream",
     "text": [
      "<class 'list'>\n",
      "[4, 2, 3, 33]\n",
      "<class 'tuple'>\n"
     ]
    },
    {
     "data": {
      "text/plain": [
       "(4, 2, 3, 33)"
      ]
     },
     "execution_count": 3,
     "metadata": {},
     "output_type": "execute_result"
    }
   ],
   "source": [
    "my_tuple = (4, 2, 3)  \n",
    "# tuple >> list\n",
    "myList = list(my_tuple)\n",
    "print(type(myList))\n",
    "myList.append(33)\n",
    "print(myList)\n",
    "my_tuple = tuple(myList)\n",
    "print(type(my_tuple))\n",
    "my_tuple"
   ]
  },
  {
   "cell_type": "code",
   "execution_count": 4,
   "metadata": {
    "id": "kFg5jzon3tCL"
   },
   "outputs": [
    {
     "data": {
      "text/plain": [
       "(4, 2, 8, 3)"
      ]
     },
     "execution_count": 4,
     "metadata": {},
     "output_type": "execute_result"
    }
   ],
   "source": [
    "#เพิ่ม element ใหม่ คือ 8 แทรกระหว่าง 2 และ 3 ใน (4,2,3)  --- วิธีที่ 1\n",
    "my_tuple = (4, 2, 3) \n",
    "new = my_tuple[:2]+(8,)+my_tuple[2:]\n",
    "new"
   ]
  },
  {
   "cell_type": "code",
   "execution_count": 8,
   "metadata": {},
   "outputs": [
    {
     "name": "stdout",
     "output_type": "stream",
     "text": [
      "(4, 2, 8, 3) <class 'tuple'>\n"
     ]
    }
   ],
   "source": [
    "##เพิ่ม element ใหม่ คือ 8 แทรกระหว่าง 2 และ 3 ใน (4,2,3)  --- วิธีที่ 2\n",
    "my_tuple = (4, 2, 3) \n",
    "Lists = list(my_tuple)\n",
    "Lists.insert(2,8)\n",
    "Lists\n",
    "my_tuple = tuple(Lists)\n",
    "print(my_tuple,type(my_tuple))\n"
   ]
  },
  {
   "cell_type": "markdown",
   "metadata": {
    "id": "Csn68DWx3tCM"
   },
   "source": [
    "# Slicing Lists"
   ]
  },
  {
   "cell_type": "code",
   "execution_count": 9,
   "metadata": {
    "id": "zbPafb0B3tCM"
   },
   "outputs": [],
   "source": [
    "grades = [\"A\", \"B\", \"C\", \"D\", \"F\"]"
   ]
  },
  {
   "cell_type": "code",
   "execution_count": 10,
   "metadata": {
    "id": "clHvhnXx3tCM",
    "outputId": "6afbce97-df22-4861-ddb0-118ec2cd67d2"
   },
   "outputs": [
    {
     "data": {
      "text/plain": [
       "'F'"
      ]
     },
     "execution_count": 10,
     "metadata": {},
     "output_type": "execute_result"
    }
   ],
   "source": [
    "# ตำแหน่งติดลบ ตำแหน่งที่ -1\n",
    "grades[-1]"
   ]
  },
  {
   "cell_type": "code",
   "execution_count": 11,
   "metadata": {
    "id": "zSQe8OFg3tCM",
    "outputId": "293ea408-4973-427a-a7ee-6705a85998f9"
   },
   "outputs": [
    {
     "data": {
      "text/plain": [
       "['A', 'B', 'C', 'D']"
      ]
     },
     "execution_count": 11,
     "metadata": {},
     "output_type": "execute_result"
    }
   ],
   "source": [
    "# ตำแหน่งติดลบ ตำแหน่งที่แรกถึง -1 (ก่อนตำแหน่งสุดท้าย)\n",
    "grades[:-1]"
   ]
  },
  {
   "cell_type": "code",
   "execution_count": 12,
   "metadata": {
    "id": "tzifm-RT3tCN",
    "outputId": "1da418cd-d504-4a1d-ad5d-8eae0797e5f9"
   },
   "outputs": [
    {
     "name": "stdout",
     "output_type": "stream",
     "text": [
      "[]\n"
     ]
    }
   ],
   "source": [
    "# ตำแหน่งก่อนหน้าตำแหน่งที่ 0\n",
    "print(grades[:0])"
   ]
  },
  {
   "cell_type": "code",
   "execution_count": 14,
   "metadata": {
    "id": "mkGTxOp13tCN",
    "outputId": "59aa8253-0b2e-4847-c50d-9579a6b15e3a"
   },
   "outputs": [
    {
     "name": "stdout",
     "output_type": "stream",
     "text": [
      "['A', 'D']\n"
     ]
    }
   ],
   "source": [
    "# ตำแหน่งที่ 0 ถึง 4 เพิ่มขึ้นทีละ 3 \n",
    "print(grades[0:4:3])"
   ]
  },
  {
   "cell_type": "code",
   "execution_count": 15,
   "metadata": {
    "id": "DHZvHE1s3tCN",
    "outputId": "b9f599ab-203e-466f-e15e-de9dff074014"
   },
   "outputs": [
    {
     "name": "stdout",
     "output_type": "stream",
     "text": [
      "['A', 'C', 'F']\n"
     ]
    }
   ],
   "source": [
    "# ตำแหน่งที่ -5 ถึง แรก เพิ่มขึ้นทีละ 2\n",
    "print(grades[-5::2])\n"
   ]
  },
  {
   "cell_type": "code",
   "execution_count": 17,
   "metadata": {
    "id": "N6De1l2m3tCN",
    "outputId": "54d913c5-1916-4df0-8958-5b6c7cd0a410"
   },
   "outputs": [
    {
     "data": {
      "text/plain": [
       "['F', 'D', 'C', 'B', 'A']"
      ]
     },
     "execution_count": 17,
     "metadata": {},
     "output_type": "execute_result"
    }
   ],
   "source": [
    "# ย้อนกลับ\n",
    "grades[::-1]"
   ]
  },
  {
   "cell_type": "markdown",
   "metadata": {
    "id": "7uOs3zgf3tCN"
   },
   "source": [
    "เขียนโค้ดเพื่อสร้าง dictionary โดยมี key ที่เป็น name ชื่อ Somchai และ phone คือ 081-508-1234 พร้อมทั้งแสดงผลข้อมูลของ dictionary ที่สร้าง "
   ]
  },
  {
   "cell_type": "code",
   "execution_count": 21,
   "metadata": {},
   "outputs": [],
   "source": [
    "dic = {'name':'somchai','phone':'0815081234'}"
   ]
  },
  {
   "cell_type": "markdown",
   "metadata": {
    "id": "JXxZCmov3tCO"
   },
   "source": [
    "ต้องการเปลี่ยนเบอร์โทรศัพท์ของสมชายเป็น 086-378-9595 แสดงผลข้อมูลของ dictionary ที่แก้ไข"
   ]
  },
  {
   "cell_type": "markdown",
   "metadata": {
    "id": "MOLKCkzK3tCO"
   },
   "source": [
    "สร้าง list เก็บข้อมูลชื่อวิชาดังนี้ Data Structure, Database, Calculus, Linear Algebra, Discrete, Statistics, Thai Writing ให้แสดงผล list ที่สร้าง "
   ]
  }
 ],
 "metadata": {
  "colab": {
   "name": "02-Lab-List-Tuple-Dictionary-forStudent-8-Aug-2020.ipynb",
   "provenance": []
  },
  "kernelspec": {
   "display_name": "Python 3 (ipykernel)",
   "language": "python",
   "name": "python3"
  },
  "language_info": {
   "codemirror_mode": {
    "name": "ipython",
    "version": 3
   },
   "file_extension": ".py",
   "mimetype": "text/x-python",
   "name": "python",
   "nbconvert_exporter": "python",
   "pygments_lexer": "ipython3",
   "version": "3.9.5"
  }
 },
 "nbformat": 4,
 "nbformat_minor": 4
}
