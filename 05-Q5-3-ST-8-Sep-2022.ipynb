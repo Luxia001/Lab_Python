{
 "cells": [
  {
   "cell_type": "markdown",
   "metadata": {},
   "source": [
    "Read CSV Dating.csv"
   ]
  },
  {
   "cell_type": "markdown",
   "metadata": {},
   "source": [
    "Converting string labels into numbers (Import LabelEncoder)"
   ]
  },
  {
   "cell_type": "code",
   "execution_count": 1,
   "metadata": {
    "id": "VL_oqQI0m6rr",
    "outputId": "f9285ec1-3d40-47b1-a291-cfb2e0c6d233"
   },
   "outputs": [
    {
     "name": "stdout",
     "output_type": "stream",
     "text": [
      "     outlook  temperature  humidity  windy  Money  Gender Dating\n",
      "0          1            2         0      1      0       1    Yes\n",
      "1          2            0         1      0      1       1    Yes\n",
      "2          0            1         1      0      0       0    Yes\n",
      "3          2            2         0      1      1       0     No\n",
      "4          2            0         0      0      0       0    Yes\n",
      "..       ...          ...       ...    ...    ...     ...    ...\n",
      "995        0            1         0      1      1       1    Yes\n",
      "996        2            2         1      1      0       1    Yes\n",
      "997        1            2         0      0      0       1     No\n",
      "998        0            2         1      1      1       0     No\n",
      "999        0            1         1      0      1       1    Yes\n",
      "\n",
      "[1000 rows x 7 columns]\n"
     ]
    }
   ],
   "source": [
    "# encode temp and play columns.\n",
    "# Converting string labels into numbers\n",
    "import pandas as pd\n",
    "import numpy as np\n",
    "from sklearn import preprocessing\n",
    "# Import LabelEncoder\n",
    "play_tennis = pd.read_csv('Dating.csv')\n",
    "number = preprocessing.LabelEncoder()\n",
    "#creating labelEncoder\n",
    "play_tennis['outlook'] = number.fit_transform(play_tennis['outlook'])\n",
    "play_tennis['temperature'] = number.fit_transform(play_tennis['temperature'])\n",
    "play_tennis['humidity'] = number.fit_transform(play_tennis['humidity'])\n",
    "play_tennis['windy'] = number.fit_transform(play_tennis['windy'])\n",
    "play_tennis['Money'] = number.fit_transform(play_tennis['Money'])\n",
    "play_tennis['Gender'] = number.fit_transform(play_tennis['Gender'])\n",
    "\n",
    "print(play_tennis)"
   ]
  },
  {
   "cell_type": "markdown",
   "metadata": {
    "id": "hAcBQm-Wm6rs"
   },
   "source": [
    "sklearn library, which can be found in sklearn.naive_bayes:\n",
    "\n",
    "sklearn.naive_bayes.CategoricalNB: \n",
    "    for using Naive Bayes on categorical predictor variables.\n",
    "            \n",
    "sklearn.naive_bayes.GaussianNB: \n",
    "    for Naive Bayes on numerical predictor variables, with the assumption \n",
    "    that these variables follow Gaussian distribution.\n",
    "    \n",
    "sklearn.naive_bayes.MultinomialNB: \n",
    "    the predictor variables represent the counts, a popular application \n",
    "    is in text classification. Fractional counts like tf-idf may also work.\n",
    "    \n",
    "sklearn.naive_bayes.ComplementNB: \n",
    "    A modification of MultinomialNB which is suitable for imbalanced datasets.\n",
    "    \n",
    "sklearn.naive_bayes.BernoulliNB: \n",
    "    assumes the data follows Bernoulli distribution (i.e. possible values of \n",
    "    predictor variables are 0 and 1)."
   ]
  },
  {
   "cell_type": "code",
   "execution_count": 14,
   "metadata": {
    "id": "-Mi-7lqAm6rw",
    "outputId": "29f2e0a6-8e32-455f-b6e3-db4f09cc9903"
   },
   "outputs": [
    {
     "name": "stdout",
     "output_type": "stream",
     "text": [
      "Predicted Value: ['Yes']\n"
     ]
    },
    {
     "name": "stderr",
     "output_type": "stream",
     "text": [
      "C:\\Users\\user\\miniconda3\\lib\\site-packages\\sklearn\\base.py:450: UserWarning: X does not have valid feature names, but GaussianNB was fitted with feature names\n",
      "  warnings.warn(\n"
     ]
    }
   ],
   "source": [
    "#Import Library of Naive Bayes\n",
    "from sklearn.naive_bayes import GaussianNB, BernoulliNB, MultinomialNB, CategoricalNB\n",
    "\n",
    "#Create a Gaussian Classifier\n",
    "Cat_NB_model = GaussianNB()\n",
    "\n",
    "# Train the model using the training sets\n",
    "\n",
    "Cat_NB_model.fit(play_tennis[['outlook','temperature','humidity','windy','Money','Gender']], play_tennis['Dating'])\n",
    "# sunny,hot,high,weak,No,male\n",
    "\n",
    "#Predict Output\n",
    "predicted = Cat_NB_model.predict([[1,1,1,1,1,0]])\n",
    "print(\"Predicted Value:\", predicted)"
   ]
  },
  {
   "cell_type": "code",
   "execution_count": 15,
   "metadata": {
    "id": "92CesUEKm6rx"
   },
   "outputs": [],
   "source": [
    "#Import Library of K-Nearest Neighbor model\n",
    "from sklearn.neighbors import KNeighborsClassifier"
   ]
  },
  {
   "cell_type": "code",
   "execution_count": 18,
   "metadata": {
    "id": "ebF7NDqxm6rx",
    "outputId": "49d07c25-9c2e-491b-d72a-fcd734ecda6b"
   },
   "outputs": [
    {
     "name": "stdout",
     "output_type": "stream",
     "text": [
      "Predicted Value: ['No']\n"
     ]
    },
    {
     "name": "stderr",
     "output_type": "stream",
     "text": [
      "C:\\Users\\user\\miniconda3\\lib\\site-packages\\sklearn\\base.py:450: UserWarning: X does not have valid feature names, but KNeighborsClassifier was fitted with feature names\n",
      "  warnings.warn(\n"
     ]
    }
   ],
   "source": [
    "#Create a KNN Classifier\n",
    "KNN_model = KNeighborsClassifier(n_neighbors=3)\n",
    "\n",
    "# Train the model using the training sets\n",
    "KNN_model.fit(play_tennis[['outlook','temperature','humidity','windy','Money','Gender']], play_tennis['Dating'])\n",
    "\n",
    "# sunny,hot,high,weak,No,male\n",
    "\n",
    "#Predict Output\n",
    "predicted= KNN_model.predict([[1,1,1,1,1,0]])\n",
    "print(\"Predicted Value:\", predicted)"
   ]
  },
  {
   "cell_type": "code",
   "execution_count": null,
   "metadata": {
    "id": "LoVbT_D_m6ry"
   },
   "outputs": [],
   "source": []
  },
  {
   "cell_type": "code",
   "execution_count": null,
   "metadata": {
    "id": "RTXDbhp-m6rz"
   },
   "outputs": [],
   "source": []
  }
 ],
 "metadata": {
  "colab": {
   "provenance": []
  },
  "kernelspec": {
   "display_name": "Python 3 (ipykernel)",
   "language": "python",
   "name": "python3"
  },
  "language_info": {
   "codemirror_mode": {
    "name": "ipython",
    "version": 3
   },
   "file_extension": ".py",
   "mimetype": "text/x-python",
   "name": "python",
   "nbconvert_exporter": "python",
   "pygments_lexer": "ipython3",
   "version": "3.9.5"
  }
 },
 "nbformat": 4,
 "nbformat_minor": 1
}
