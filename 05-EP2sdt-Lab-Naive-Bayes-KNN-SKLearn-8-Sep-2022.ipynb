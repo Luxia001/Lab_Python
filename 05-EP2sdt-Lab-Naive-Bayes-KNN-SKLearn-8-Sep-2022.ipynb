{
 "cells": [
  {
   "cell_type": "markdown",
   "metadata": {
    "id": "nySuWOeRm7X4"
   },
   "source": [
    "# ตัวอย่าง Naive Bayes และ KNN"
   ]
  },
  {
   "cell_type": "code",
   "execution_count": 1,
   "metadata": {
    "id": "q7i7OEX8m7YA"
   },
   "outputs": [],
   "source": [
    "import pandas as pd\n",
    "import numpy as np\n",
    "#Import Library of Gaussian Naive Bayes model\n",
    "from sklearn.naive_bayes import GaussianNB\n",
    "#Import Library of K-Nearest Neighbor model\n",
    "from sklearn.neighbors import KNeighborsClassifier"
   ]
  },
  {
   "cell_type": "code",
   "execution_count": 2,
   "metadata": {
    "id": "jJdFHCRBm7YE",
    "outputId": "4262b432-ca25-4fb7-8b81-425d0e730dfd"
   },
   "outputs": [
    {
     "data": {
      "text/html": [
       "<div>\n",
       "<style scoped>\n",
       "    .dataframe tbody tr th:only-of-type {\n",
       "        vertical-align: middle;\n",
       "    }\n",
       "\n",
       "    .dataframe tbody tr th {\n",
       "        vertical-align: top;\n",
       "    }\n",
       "\n",
       "    .dataframe thead th {\n",
       "        text-align: right;\n",
       "    }\n",
       "</style>\n",
       "<table border=\"1\" class=\"dataframe\">\n",
       "  <thead>\n",
       "    <tr style=\"text-align: right;\">\n",
       "      <th></th>\n",
       "      <th>Weight</th>\n",
       "      <th>Height</th>\n",
       "      <th>Foot_Size</th>\n",
       "    </tr>\n",
       "  </thead>\n",
       "  <tbody>\n",
       "    <tr>\n",
       "      <th>0</th>\n",
       "      <td>60.00</td>\n",
       "      <td>180</td>\n",
       "      <td>12</td>\n",
       "    </tr>\n",
       "    <tr>\n",
       "      <th>1</th>\n",
       "      <td>50.92</td>\n",
       "      <td>190</td>\n",
       "      <td>11</td>\n",
       "    </tr>\n",
       "    <tr>\n",
       "      <th>2</th>\n",
       "      <td>50.58</td>\n",
       "      <td>170</td>\n",
       "      <td>12</td>\n",
       "    </tr>\n",
       "    <tr>\n",
       "      <th>3</th>\n",
       "      <td>50.92</td>\n",
       "      <td>165</td>\n",
       "      <td>10</td>\n",
       "    </tr>\n",
       "    <tr>\n",
       "      <th>4</th>\n",
       "      <td>50.00</td>\n",
       "      <td>100</td>\n",
       "      <td>6</td>\n",
       "    </tr>\n",
       "    <tr>\n",
       "      <th>5</th>\n",
       "      <td>50.50</td>\n",
       "      <td>150</td>\n",
       "      <td>8</td>\n",
       "    </tr>\n",
       "    <tr>\n",
       "      <th>6</th>\n",
       "      <td>50.42</td>\n",
       "      <td>130</td>\n",
       "      <td>7</td>\n",
       "    </tr>\n",
       "    <tr>\n",
       "      <th>7</th>\n",
       "      <td>50.75</td>\n",
       "      <td>150</td>\n",
       "      <td>9</td>\n",
       "    </tr>\n",
       "  </tbody>\n",
       "</table>\n",
       "</div>"
      ],
      "text/plain": [
       "   Weight  Height  Foot_Size\n",
       "0   60.00     180         12\n",
       "1   50.92     190         11\n",
       "2   50.58     170         12\n",
       "3   50.92     165         10\n",
       "4   50.00     100          6\n",
       "5   50.50     150          8\n",
       "6   50.42     130          7\n",
       "7   50.75     150          9"
      ]
     },
     "execution_count": 2,
     "metadata": {},
     "output_type": "execute_result"
    }
   ],
   "source": [
    "# สร้าง dataframe ชื่อ data ว่างๆ ขึ้นมาก่อน\n",
    "data = pd.DataFrame()\n",
    "\n",
    "# ต้องการสร้างข้อมูลที่ประกอบด้วยคุณลักษณะ (attribute) ได้แก่ ความสูง น้ำหนัก ขนาดรองเท้า และเพศ ของลูกค้า ต้องการจะใช้วิธี naive bayes \n",
    "# เพื่อมาทำนายลูกค้าจะเป็นเพศหญิงหรือชาย (class) เมื่อทราบคุณลักษณะของข้อมูลของลูกค้า\n",
    "\n",
    "# สร้างข้อมูลที่เป็น class เก็บใน dataframe ที่สร้างไว้ \n",
    "data['Gender'] = ['male','male','male','male','female','female','female','female']\n",
    "\n",
    "# สร้้างข้อมูลที่เป็น attribute\n",
    "data['Weight'] = [60,50.92,50.58,50.92,50,50.5,50.42,50.75]\n",
    "data['Height'] = [180,190,170,165,100,150,130,150]\n",
    "data['Foot_Size'] = [12,11,12,10,6,8,7,9]\n",
    "\n",
    "# view ข้อมูล\n",
    "data[['Weight','Height','Foot_Size']]"
   ]
  },
  {
   "cell_type": "code",
   "execution_count": 3,
   "metadata": {
    "id": "P-Q4ImcOm7YI",
    "outputId": "e5a02aad-20b2-46e0-8569-fffb8efd0a4f"
   },
   "outputs": [
    {
     "data": {
      "text/html": [
       "<div>\n",
       "<style scoped>\n",
       "    .dataframe tbody tr th:only-of-type {\n",
       "        vertical-align: middle;\n",
       "    }\n",
       "\n",
       "    .dataframe tbody tr th {\n",
       "        vertical-align: top;\n",
       "    }\n",
       "\n",
       "    .dataframe thead th {\n",
       "        text-align: right;\n",
       "    }\n",
       "</style>\n",
       "<table border=\"1\" class=\"dataframe\">\n",
       "  <thead>\n",
       "    <tr style=\"text-align: right;\">\n",
       "      <th></th>\n",
       "      <th>Weight</th>\n",
       "      <th>Height</th>\n",
       "      <th>Foot_Size</th>\n",
       "    </tr>\n",
       "  </thead>\n",
       "  <tbody>\n",
       "    <tr>\n",
       "      <th>0</th>\n",
       "      <td>60</td>\n",
       "      <td>130</td>\n",
       "      <td>8</td>\n",
       "    </tr>\n",
       "    <tr>\n",
       "      <th>1</th>\n",
       "      <td>55</td>\n",
       "      <td>165</td>\n",
       "      <td>9</td>\n",
       "    </tr>\n",
       "  </tbody>\n",
       "</table>\n",
       "</div>"
      ],
      "text/plain": [
       "   Weight  Height  Foot_Size\n",
       "0      60     130          8\n",
       "1      55     165          9"
      ]
     },
     "execution_count": 3,
     "metadata": {},
     "output_type": "execute_result"
    }
   ],
   "source": [
    "# สร้าง dataframe ชื่อ person ว่างๆ ขึ้นมาก่อน\n",
    "person = pd.DataFrame()\n",
    "\n",
    "# สร้างข้อมูลที่เป็น new data มี 2 คน\n",
    "person['Weight'] = [60,55]\n",
    "person['Height'] = [130,165]\n",
    "person['Foot_Size'] = [8,9]\n",
    "\n",
    "# View the data \n",
    "person\n",
    "#print(data['Gender'])"
   ]
  },
  {
   "cell_type": "markdown",
   "metadata": {},
   "source": [
    "### ตัวอย่าง GaussianNB"
   ]
  },
  {
   "cell_type": "code",
   "execution_count": 5,
   "metadata": {
    "id": "mM7mK5Jxm7YK",
    "outputId": "7fa188ff-09b9-489a-f11e-57052b677f1f"
   },
   "outputs": [
    {
     "data": {
      "text/plain": [
       "sklearn.naive_bayes.GaussianNB"
      ]
     },
     "execution_count": 5,
     "metadata": {},
     "output_type": "execute_result"
    }
   ],
   "source": [
    "#Create a Gaussian Classifier ( use GaussianNB())\n",
    "model = GaussianNB()\n",
    "type(model)"
   ]
  },
  {
   "cell_type": "code",
   "execution_count": 6,
   "metadata": {
    "id": "O8c-P6uIm7YM",
    "outputId": "4dd163e1-f825-4651-a0d0-e4d6c55606ed"
   },
   "outputs": [
    {
     "data": {
      "text/plain": [
       "GaussianNB()"
      ]
     },
     "execution_count": 6,
     "metadata": {},
     "output_type": "execute_result"
    }
   ],
   "source": [
    "# Train the model using the training sets \n",
    "\n",
    "# model.fit(data[['col1','col2','col3']], data['col_class']) ,col = 'Weight','Height','Foot_Size','Gender'\n",
    "model.fit(data[['Weight','Height','Foot_Size']], data['Gender'])\n"
   ]
  },
  {
   "cell_type": "code",
   "execution_count": 7,
   "metadata": {},
   "outputs": [
    {
     "data": {
      "text/plain": [
       "Index(['Weight', 'Height', 'Foot_Size'], dtype='object')"
      ]
     },
     "execution_count": 7,
     "metadata": {},
     "output_type": "execute_result"
    }
   ],
   "source": [
    "person.columns"
   ]
  },
  {
   "cell_type": "code",
   "execution_count": 10,
   "metadata": {
    "id": "neAVuq-gm7YM",
    "outputId": "db7f9583-6383-4a80-c0f6-84912646e407"
   },
   "outputs": [
    {
     "name": "stdout",
     "output_type": "stream",
     "text": [
      "Predicted Value: ['male' 'male']\n"
     ]
    }
   ],
   "source": [
    "#Predict Output new data = person\n",
    "# 'Weight','Height','Foot_Size'\n",
    "# model.predict(newData[[...]]) \n",
    "\n",
    "predicted= model.predict(person[['Weight', 'Height', 'Foot_Size']])\n",
    "print(\"Predicted Value:\", predicted)"
   ]
  },
  {
   "cell_type": "markdown",
   "metadata": {
    "id": "nFN5eTLNm7YN"
   },
   "source": [
    "GaussianNB: For continuous features that are assumed to be Gaussian distributed.\n",
    "MultinomialNB: For discreet features that are multinomially distributed, e.g. counts of words of occurrences\n",
    "BernoulliNB: For indicator features (True/False) which are assumed to be Bernoulli distributed"
   ]
  },
  {
   "cell_type": "markdown",
   "metadata": {
    "id": "dnQyAa0xm7YP"
   },
   "source": [
    "# ตัวอย่าง  KNN"
   ]
  },
  {
   "cell_type": "code",
   "execution_count": 11,
   "metadata": {
    "id": "vyKuLHsEm7YQ"
   },
   "outputs": [],
   "source": [
    "#Create KNN Classifier\n",
    "# KNeighborsClassifier(n_neighbors),n_neighbors=3\n",
    "knn = KNeighborsClassifier(n_neighbors=3)"
   ]
  },
  {
   "cell_type": "code",
   "execution_count": 12,
   "metadata": {
    "id": "gwmc1qCvm7YR",
    "outputId": "e5a9ce49-7fc6-4833-f02d-0ac433f3116d"
   },
   "outputs": [
    {
     "data": {
      "text/plain": [
       "KNeighborsClassifier()"
      ]
     },
     "execution_count": 12,
     "metadata": {},
     "output_type": "execute_result"
    }
   ],
   "source": [
    "# Train the model using the training sets \n",
    "# knn.fit(data[['col1','col2','col3']], data['col_class']) ,col = 'Weight','Height','Foot_Size','Gender'\n",
    "knn.fit(data[['Weight','Height','Foot_Size']], data['Gender'])"
   ]
  },
  {
   "cell_type": "code",
   "execution_count": 13,
   "metadata": {
    "id": "A2tac3JAm7YS",
    "outputId": "4066d97a-a27a-4799-b85b-2be467314603"
   },
   "outputs": [
    {
     "name": "stdout",
     "output_type": "stream",
     "text": [
      "Predicted Value: ['female' 'male']\n"
     ]
    }
   ],
   "source": [
    "#Predict Output\n",
    "# 'Weight','Height','Foot_Size'\n",
    "# knn.predict(newData[[...]]) \n",
    "\n",
    "predicted= knn.predict(person[['Weight','Height','Foot_Size']])\n",
    "print(\"Predicted Value:\", predicted)"
   ]
  },
  {
   "cell_type": "markdown",
   "metadata": {
    "id": "l48608YDm7YT"
   },
   "source": []
  },
  {
   "cell_type": "code",
   "execution_count": null,
   "metadata": {
    "id": "BeF-cV22m7YU"
   },
   "outputs": [],
   "source": []
  }
 ],
 "metadata": {
  "colab": {
   "provenance": []
  },
  "kernelspec": {
   "display_name": "Python 3 (ipykernel)",
   "language": "python",
   "name": "python3"
  },
  "language_info": {
   "codemirror_mode": {
    "name": "ipython",
    "version": 3
   },
   "file_extension": ".py",
   "mimetype": "text/x-python",
   "name": "python",
   "nbconvert_exporter": "python",
   "pygments_lexer": "ipython3",
   "version": "3.9.5"
  }
 },
 "nbformat": 4,
 "nbformat_minor": 1
}
