{
 "cells": [
  {
   "cell_type": "code",
   "execution_count": 1,
   "metadata": {
    "id": "5DLR8Qrcm6ri"
   },
   "outputs": [],
   "source": [
    "import pandas as pd\n",
    "import numpy as np"
   ]
  },
  {
   "cell_type": "code",
   "execution_count": 2,
   "metadata": {
    "id": "UVOQU3dhm6rp",
    "outputId": "7240abeb-e0c3-4a1b-b556-c651d3553ad9"
   },
   "outputs": [
    {
     "name": "stdout",
     "output_type": "stream",
     "text": [
      "     outlook temperature humidity   windy play\n",
      "0      sunny         hot     high    weak   no\n",
      "1      sunny         hot     high  strong   no\n",
      "2   overcast         hot     high    weak  yes\n",
      "3      rainy        mild     high    weak  yes\n",
      "4      rainy        cool   normal    weak  yes\n",
      "5      rainy        cool   normal  strong   no\n",
      "6   overcast        cool   normal  strong  yes\n",
      "7      sunny        mild     high    weak   no\n",
      "8      sunny        cool   normal    weak  yes\n",
      "9      rainy        mild   normal    weak  yes\n",
      "10     sunny        mild   normal  strong  yes\n",
      "11  overcast        mild     high  strong  yes\n",
      "12  overcast         hot   normal    weak  yes\n",
      "13     rainy        mild     high  strong   no\n"
     ]
    }
   ],
   "source": [
    "# สร้าง dataframe ชื่อ data ว่างๆ ขึ้นมาก่อน\n",
    "play_tennis  = pd.read_csv('play_tennis.csv')\n",
    "print(play_tennis)"
   ]
  },
  {
   "cell_type": "markdown",
   "metadata": {},
   "source": [
    "### preprocessing"
   ]
  },
  {
   "cell_type": "code",
   "execution_count": 4,
   "metadata": {
    "id": "VL_oqQI0m6rr",
    "outputId": "f9285ec1-3d40-47b1-a291-cfb2e0c6d233"
   },
   "outputs": [
    {
     "name": "stdout",
     "output_type": "stream",
     "text": [
      "    outlook  temperature  humidity  windy play\n",
      "0         2            1         0      1   no\n",
      "1         2            1         0      0   no\n",
      "2         0            1         0      1  yes\n",
      "3         1            2         0      1  yes\n",
      "4         1            0         1      1  yes\n",
      "5         1            0         1      0   no\n",
      "6         0            0         1      0  yes\n",
      "7         2            2         0      1   no\n",
      "8         2            0         1      1  yes\n",
      "9         1            2         1      1  yes\n",
      "10        2            2         1      0  yes\n",
      "11        0            2         0      0  yes\n",
      "12        0            1         1      1  yes\n",
      "13        1            2         0      0   no\n"
     ]
    }
   ],
   "source": [
    "# encode temp and play columns.\n",
    "# Converting string labels into numbers\n",
    "\n",
    "# Import LabelEncoder\n",
    "from sklearn import preprocessing\n",
    "\n",
    "#creating labelEncoder\n",
    "number = preprocessing.LabelEncoder()\n",
    "\n",
    "play_tennis['outlook'] = number.fit_transform(play_tennis['outlook'])\n",
    "play_tennis['temperature'] = number.fit_transform(play_tennis['temperature'])#temperature\n",
    "play_tennis['humidity'] =number.fit_transform(play_tennis['humidity']) #humidity\n",
    "play_tennis['windy'] = number.fit_transform(play_tennis['windy'])#windy\n",
    "#play_tennis['play'] = number.fit_transform(play_tennis['play'])\n",
    "\n",
    "print(play_tennis)"
   ]
  },
  {
   "cell_type": "markdown",
   "metadata": {
    "id": "hAcBQm-Wm6rs"
   },
   "source": [
    "sklearn library, which can be found in sklearn.naive_bayes:\n",
    "\n",
    "sklearn.naive_bayes.CategoricalNB: \n",
    "    for using Naive Bayes on categorical predictor variables.\n",
    "            \n",
    "sklearn.naive_bayes.GaussianNB: \n",
    "    for Naive Bayes on numerical predictor variables, with the assumption \n",
    "    that these variables follow Gaussian distribution.\n",
    "    \n",
    "sklearn.naive_bayes.MultinomialNB: \n",
    "    the predictor variables represent the counts, a popular application \n",
    "    is in text classification. Fractional counts like tf-idf may also work.\n",
    "    \n",
    "sklearn.naive_bayes.ComplementNB: \n",
    "    A modification of MultinomialNB which is suitable for imbalanced datasets.\n",
    "    \n",
    "sklearn.naive_bayes.BernoulliNB: \n",
    "    assumes the data follows Bernoulli distribution (i.e. possible values of \n",
    "    predictor variables are 0 and 1)."
   ]
  },
  {
   "cell_type": "code",
   "execution_count": 9,
   "metadata": {
    "id": "-Mi-7lqAm6rw",
    "outputId": "29f2e0a6-8e32-455f-b6e3-db4f09cc9903"
   },
   "outputs": [
    {
     "name": "stdout",
     "output_type": "stream",
     "text": [
      "Predicted Value: ['no']\n"
     ]
    },
    {
     "name": "stderr",
     "output_type": "stream",
     "text": [
      "C:\\Users\\user\\miniconda3\\lib\\site-packages\\sklearn\\base.py:450: UserWarning: X does not have valid feature names, but CategoricalNB was fitted with feature names\n",
      "  warnings.warn(\n"
     ]
    }
   ],
   "source": [
    "#Import Library of Naive Bayes\n",
    "from sklearn.naive_bayes import GaussianNB, BernoulliNB, MultinomialNB, CategoricalNB\n",
    "\n",
    "#Create a Gaussian Classifier\n",
    "Cat_NB_model = CategoricalNB()\n",
    "\n",
    "# Train the model using the training sets\n",
    "# data =['outlook','temperature', 'humidity','windy'] ,class = 'play'\n",
    "Cat_NB_model.fit(play_tennis[['outlook','temperature', 'humidity','windy']],play_tennis['play'])\n",
    "\n",
    "#Predict Output\n",
    "predicted= Cat_NB_model.predict([[1,1,0,1]]) # 1:rain, 1:hot, 0:high, 1:weak\n",
    "print(\"Predicted Value:\", predicted)"
   ]
  },
  {
   "cell_type": "code",
   "execution_count": 6,
   "metadata": {
    "id": "92CesUEKm6rx"
   },
   "outputs": [],
   "source": [
    "#Import Library of K-Nearest Neighbor model\n",
    "from sklearn.neighbors import KNeighborsClassifier"
   ]
  },
  {
   "cell_type": "code",
   "execution_count": 7,
   "metadata": {
    "id": "ebF7NDqxm6rx",
    "outputId": "49d07c25-9c2e-491b-d72a-fcd734ecda6b"
   },
   "outputs": [
    {
     "name": "stdout",
     "output_type": "stream",
     "text": [
      "Predicted Value: ['yes']\n"
     ]
    },
    {
     "name": "stderr",
     "output_type": "stream",
     "text": [
      "C:\\Users\\user\\miniconda3\\lib\\site-packages\\sklearn\\base.py:450: UserWarning: X does not have valid feature names, but KNeighborsClassifier was fitted with feature names\n",
      "  warnings.warn(\n"
     ]
    }
   ],
   "source": [
    "#Create a KNN Classifier\n",
    "KNN_model = KNeighborsClassifier(n_neighbors=3)\n",
    "\n",
    "# Train the model using the training sets\n",
    "# data =['outlook','temperature', 'humidity','windy'] ,class = 'play'\n",
    "KNN_model.fit(play_tennis[['outlook','temperature', 'humidity','windy']],play_tennis['play'])\n",
    "\n",
    "#Predict Output\n",
    "predicted= KNN_model.predict([[1,1,0,1]]) # 1:rain, 1:hot, 0:high, 1:weak\n",
    "print(\"Predicted Value:\", predicted)"
   ]
  },
  {
   "cell_type": "code",
   "execution_count": null,
   "metadata": {
    "id": "LoVbT_D_m6ry"
   },
   "outputs": [],
   "source": []
  },
  {
   "cell_type": "code",
   "execution_count": null,
   "metadata": {
    "id": "RTXDbhp-m6rz"
   },
   "outputs": [],
   "source": []
  }
 ],
 "metadata": {
  "colab": {
   "provenance": []
  },
  "kernelspec": {
   "display_name": "Python 3 (ipykernel)",
   "language": "python",
   "name": "python3"
  },
  "language_info": {
   "codemirror_mode": {
    "name": "ipython",
    "version": 3
   },
   "file_extension": ".py",
   "mimetype": "text/x-python",
   "name": "python",
   "nbconvert_exporter": "python",
   "pygments_lexer": "ipython3",
   "version": "3.9.5"
  }
 },
 "nbformat": 4,
 "nbformat_minor": 1
}
