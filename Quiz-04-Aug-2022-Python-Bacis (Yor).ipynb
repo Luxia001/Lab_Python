{
 "cells": [
  {
   "cell_type": "markdown",
   "id": "33154c43",
   "metadata": {
    "nbgrader": {
     "grade": false,
     "grade_id": "cell-42b96fd90064f955",
     "locked": true,
     "schema_version": 3,
     "solution": false,
     "task": false
    }
   },
   "source": [
    "1. สร้างหัวข้อ (Heading) ตามรูปแบบด้านล่าง\n",
    "    - 650710XXX-Yor-Forger"
   ]
  },
  {
   "cell_type": "markdown",
   "id": "512c1d6d-2f85-4a49-9769-c8619c06b433",
   "metadata": {},
   "source": [
    "# your code\n",
    "# 620710467-Panuwat-Wichitsiriwat"
   ]
  },
  {
   "cell_type": "markdown",
   "id": "2a4c1d06",
   "metadata": {
    "nbgrader": {
     "grade": false,
     "grade_id": "cell-5a0a5fce51c6f5d6",
     "locked": true,
     "schema_version": 3,
     "solution": false,
     "task": false
    }
   },
   "source": [
    "2. รับข้อความทางหน้าจอและพิมพ์ออกมา 2 ครั้ง\n",
    "    - input >> 5\n",
    "    - output >> 5 5"
   ]
  },
  {
   "cell_type": "code",
   "execution_count": 4,
   "id": "3cf85cea",
   "metadata": {},
   "outputs": [
    {
     "name": "stdin",
     "output_type": "stream",
     "text": [
      " 5\n"
     ]
    },
    {
     "name": "stdout",
     "output_type": "stream",
     "text": [
      "5 5\n"
     ]
    }
   ],
   "source": [
    "# your code\n",
    "x = input()\n",
    "print(x, x)"
   ]
  },
  {
   "cell_type": "markdown",
   "id": "84ea17f2",
   "metadata": {
    "nbgrader": {
     "grade": false,
     "grade_id": "cell-798e6b526c176fe2",
     "locked": true,
     "schema_version": 3,
     "solution": false,
     "task": false
    }
   },
   "source": [
    "3. รับจำนวนเต็ม 2 จำนวนจากแป้นพิมพ์ (บรรทัดละจำนวน) เก็บในตัวแปร m และ cm ซึ่งแทนความยาวเป็นเมตร และเซนติเมตร \n",
    "เพื่อแสดงผลลัพธ์จำนวนเซนติเมตรรวมทั้งหมดที่คำนวณได้\n",
    "\n",
    "    - input >> 1 30\n",
    "    - output >> 130"
   ]
  },
  {
   "cell_type": "code",
   "execution_count": 19,
   "id": "81165e5c",
   "metadata": {},
   "outputs": [
    {
     "name": "stdin",
     "output_type": "stream",
     "text": [
      " 1\n",
      " 30\n"
     ]
    },
    {
     "name": "stdout",
     "output_type": "stream",
     "text": [
      "130\n"
     ]
    }
   ],
   "source": [
    "# your code\n",
    "m = int(input())\n",
    "cm = int(input())\n",
    "resualt = (m*100)+cm\n",
    "print(resualt)"
   ]
  },
  {
   "cell_type": "markdown",
   "id": "593d9e5e",
   "metadata": {
    "nbgrader": {
     "grade": false,
     "grade_id": "cell-19676faa0ee93fbf",
     "locked": true,
     "schema_version": 3,
     "solution": false,
     "task": false
    }
   },
   "source": [
    "4. จงตรวจสอบชนิดของข้อมูลในตัวแปร box "
   ]
  },
  {
   "cell_type": "code",
   "execution_count": 38,
   "id": "29645649",
   "metadata": {
    "nbgrader": {
     "grade": false,
     "grade_id": "cell-e549f0a936481ccc",
     "locked": true,
     "schema_version": 3,
     "solution": false,
     "task": false
    }
   },
   "outputs": [],
   "source": [
    "box = [\"Never\",\"be\",\"the\",\"same\"]"
   ]
  },
  {
   "cell_type": "code",
   "execution_count": 51,
   "id": "2c185ec8",
   "metadata": {},
   "outputs": [
    {
     "name": "stdout",
     "output_type": "stream",
     "text": [
      "<class 'list'>\n",
      "<class 'str'> <class 'str'> <class 'str'> <class 'str'> "
     ]
    }
   ],
   "source": [
    "# your code\n",
    "\n",
    "print(type(box))\n",
    "for i in range(len(box)):\n",
    "    x=box[i]\n",
    "    print(type(x),end=\" \")"
   ]
  },
  {
   "cell_type": "markdown",
   "id": "1d8211c4-1645-49ad-9867-f601111be050",
   "metadata": {
    "nbgrader": {
     "grade": false,
     "grade_id": "cell-528aabcb2087eb90",
     "locked": true,
     "schema_version": 3,
     "solution": false,
     "task": false
    }
   },
   "source": [
    "5. รับค่าความกว้าง,ยาวและสูง เพื่อหาปริมาตรทรงสี่เหลี่ยมมุมฉาก พิมพ์ปริมาตรทรงสี่เหลี่ยมมุมฉากออกมา\n",
    "    - **สูตรการหาปริมาตรทรงสี่เหลี่ยมมุมฉาก = กว้าง x ยาว x สูง**\n",
    "    \n",
    "*ค่าทั้ง 3 สามารถกำหนดขึ้นมาเองได้*\n"
   ]
  },
  {
   "cell_type": "code",
   "execution_count": 49,
   "id": "4d2fa568",
   "metadata": {},
   "outputs": [
    {
     "name": "stdin",
     "output_type": "stream",
     "text": [
      " 2\n",
      " 2\n",
      " 2\n"
     ]
    },
    {
     "name": "stdout",
     "output_type": "stream",
     "text": [
      "8\n"
     ]
    }
   ],
   "source": [
    "# your code\n",
    "square = int(input()) * int(input()) * int(input())\n",
    "print(square)"
   ]
  },
  {
   "cell_type": "markdown",
   "id": "722bfaa4",
   "metadata": {
    "nbgrader": {
     "grade": false,
     "grade_id": "cell-67a7829fc442a5ed",
     "locked": true,
     "schema_version": 3,
     "solution": false,
     "task": false
    }
   },
   "source": [
    "6. เลือกพิมพ์ \"No one\" จากข้อความในตัวแปร your_text โดยใช้วิธีการ slicing"
   ]
  },
  {
   "cell_type": "code",
   "execution_count": 43,
   "id": "710151d0",
   "metadata": {
    "nbgrader": {
     "grade": false,
     "grade_id": "cell-289865ffd27e216d",
     "locked": true,
     "schema_version": 3,
     "solution": false,
     "task": false
    }
   },
   "outputs": [],
   "source": [
    "your_text = \"No one really likes us except for us\""
   ]
  },
  {
   "cell_type": "code",
   "execution_count": 48,
   "id": "95354d9c",
   "metadata": {},
   "outputs": [
    {
     "data": {
      "text/plain": [
       "'No one'"
      ]
     },
     "execution_count": 48,
     "metadata": {},
     "output_type": "execute_result"
    }
   ],
   "source": [
    "# your code\n",
    "your_text[:6]"
   ]
  },
  {
   "cell_type": "markdown",
   "id": "9680e44a",
   "metadata": {
    "nbgrader": {
     "grade": false,
     "grade_id": "cell-af70732745590d95",
     "locked": true,
     "schema_version": 3,
     "solution": false,
     "task": false
    }
   },
   "source": [
    "7. พิมพ์ค่าที่ใน thislist ย้อนกลับจาก index ท้ายไปยัง index แรก"
   ]
  },
  {
   "cell_type": "code",
   "execution_count": 41,
   "id": "8af5ac36",
   "metadata": {
    "nbgrader": {
     "grade": false,
     "grade_id": "cell-5fd545b27199c83c",
     "locked": true,
     "schema_version": 3,
     "solution": false,
     "task": false
    }
   },
   "outputs": [],
   "source": [
    "thislist = [\"Tell\" ,\"me\" ,\"if\" ,\"you\" ,\"don’t\" ,\"love\" ,\"me\"]"
   ]
  },
  {
   "cell_type": "code",
   "execution_count": 42,
   "id": "c76087e7",
   "metadata": {},
   "outputs": [
    {
     "data": {
      "text/plain": [
       "['me', 'love', 'don’t', 'you', 'if', 'me', 'Tell']"
      ]
     },
     "execution_count": 42,
     "metadata": {},
     "output_type": "execute_result"
    }
   ],
   "source": [
    "# your code\n",
    "thislist[::-1]"
   ]
  },
  {
   "cell_type": "code",
   "execution_count": null,
   "id": "7cf7897c-4276-436b-8a5b-bdb2a1d23b20",
   "metadata": {},
   "outputs": [],
   "source": []
  }
 ],
 "metadata": {
  "celltoolbar": "Create Assignment",
  "kernelspec": {
   "display_name": "Python 3 (ipykernel)",
   "language": "python",
   "name": "python3"
  },
  "language_info": {
   "codemirror_mode": {
    "name": "ipython",
    "version": 3
   },
   "file_extension": ".py",
   "mimetype": "text/x-python",
   "name": "python",
   "nbconvert_exporter": "python",
   "pygments_lexer": "ipython3",
   "version": "3.9.5"
  }
 },
 "nbformat": 4,
 "nbformat_minor": 5
}
