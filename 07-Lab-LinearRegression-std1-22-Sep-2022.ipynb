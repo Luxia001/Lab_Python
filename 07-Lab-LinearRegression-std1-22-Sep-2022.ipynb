{
 "cells": [
  {
   "cell_type": "markdown",
   "metadata": {},
   "source": [
    "#### import library เกี่ยวข้อง"
   ]
  },
  {
   "cell_type": "code",
   "execution_count": 1,
   "metadata": {},
   "outputs": [],
   "source": [
    "import pandas as pd\n",
    "import statsmodels.formula.api as sm\n",
    "from sklearn import linear_model\n",
    "\n",
    "import matplotlib.pyplot as plt\n",
    "\n",
    "%matplotlib inline  \n",
    "plt.rcParams['figure.figsize'] = (10, 6) #ปรับกราฟให้มีขนาด 10x6"
   ]
  },
  {
   "cell_type": "markdown",
   "metadata": {},
   "source": [
    "Each record in the database describes a Boston suburb or town. The data was drawn from the Boston Standard Metropolitan Statistical Area (SMSA) in 1970. The attributes are deﬁned as follows (taken from the UCI Machine Learning Repository1): CRIM: per capita crime rate by town\n",
    "\n",
    "1. ZN: proportion of residential land zoned for lots over 25,000 sq.ft.\n",
    "2. INDUS: proportion of non-retail business acres per town\n",
    "3. CHAS: Charles River dummy variable (= 1 if tract bounds river; 0 otherwise)\n",
    "4. NOX: nitric oxides concentration (parts per 10 million)\n",
    "1https://archive.ics.uci.edu/ml/datasets/Housing\n",
    "123\n",
    "20.2. Load the Dataset 124\n",
    "5. RM: average number of rooms per dwelling\n",
    "6. AGE: proportion of owner-occupied units built prior to 1940\n",
    "7. DIS: weighted distances to ﬁve Boston employment centers\n",
    "8. RAD: index of accessibility to radial highways\n",
    "9. TAX: full-value property-tax rate per $10\\,000\n",
    "\n",
    "10. PTRATIO: pupil-teacher ratio by town \n",
    "11. B: 1000(Bk−0.63)2 where Bk is the proportion of blacks by town\n",
    "12. LSTAT: \\% lower status of the population\n",
    "13. MEDV: Median value of owner-occupied homes in $1000s\n",
    "We can see that the input attributes have a mixture of units."
   ]
  },
  {
   "cell_type": "markdown",
   "metadata": {},
   "source": [
    "#### อ่านข้อมูลจากไฟล์ excel"
   ]
  },
  {
   "cell_type": "code",
   "execution_count": 2,
   "metadata": {},
   "outputs": [
    {
     "data": {
      "text/html": [
       "<div>\n",
       "<style scoped>\n",
       "    .dataframe tbody tr th:only-of-type {\n",
       "        vertical-align: middle;\n",
       "    }\n",
       "\n",
       "    .dataframe tbody tr th {\n",
       "        vertical-align: top;\n",
       "    }\n",
       "\n",
       "    .dataframe thead th {\n",
       "        text-align: right;\n",
       "    }\n",
       "</style>\n",
       "<table border=\"1\" class=\"dataframe\">\n",
       "  <thead>\n",
       "    <tr style=\"text-align: right;\">\n",
       "      <th></th>\n",
       "      <th>CRIM</th>\n",
       "      <th>ZN</th>\n",
       "      <th>INDUS</th>\n",
       "      <th>CHAS</th>\n",
       "      <th>NOX</th>\n",
       "      <th>RM</th>\n",
       "      <th>AGE</th>\n",
       "      <th>DIS</th>\n",
       "      <th>RAD</th>\n",
       "      <th>TAX</th>\n",
       "      <th>PTRATIO</th>\n",
       "      <th>B</th>\n",
       "      <th>LSTAT</th>\n",
       "      <th>MEDV</th>\n",
       "      <th>CAT. MEDV</th>\n",
       "      <th>Unnamed: 15</th>\n",
       "      <th>Unnamed: 16</th>\n",
       "    </tr>\n",
       "  </thead>\n",
       "  <tbody>\n",
       "    <tr>\n",
       "      <th>0</th>\n",
       "      <td>0.00632</td>\n",
       "      <td>18.0</td>\n",
       "      <td>2.31</td>\n",
       "      <td>0</td>\n",
       "      <td>0.538</td>\n",
       "      <td>6.575</td>\n",
       "      <td>65.2</td>\n",
       "      <td>4.0900</td>\n",
       "      <td>1</td>\n",
       "      <td>296</td>\n",
       "      <td>15.3</td>\n",
       "      <td>396.90</td>\n",
       "      <td>4.98</td>\n",
       "      <td>24.0</td>\n",
       "      <td>0</td>\n",
       "      <td>NaN</td>\n",
       "      <td>NaN</td>\n",
       "    </tr>\n",
       "    <tr>\n",
       "      <th>1</th>\n",
       "      <td>0.02731</td>\n",
       "      <td>0.0</td>\n",
       "      <td>7.07</td>\n",
       "      <td>0</td>\n",
       "      <td>0.469</td>\n",
       "      <td>6.421</td>\n",
       "      <td>78.9</td>\n",
       "      <td>4.9671</td>\n",
       "      <td>2</td>\n",
       "      <td>242</td>\n",
       "      <td>17.8</td>\n",
       "      <td>396.90</td>\n",
       "      <td>9.14</td>\n",
       "      <td>21.6</td>\n",
       "      <td>0</td>\n",
       "      <td>NaN</td>\n",
       "      <td>NaN</td>\n",
       "    </tr>\n",
       "    <tr>\n",
       "      <th>2</th>\n",
       "      <td>0.02729</td>\n",
       "      <td>0.0</td>\n",
       "      <td>7.07</td>\n",
       "      <td>0</td>\n",
       "      <td>0.469</td>\n",
       "      <td>7.185</td>\n",
       "      <td>61.1</td>\n",
       "      <td>4.9671</td>\n",
       "      <td>2</td>\n",
       "      <td>242</td>\n",
       "      <td>17.8</td>\n",
       "      <td>392.83</td>\n",
       "      <td>4.03</td>\n",
       "      <td>34.7</td>\n",
       "      <td>1</td>\n",
       "      <td>NaN</td>\n",
       "      <td>NaN</td>\n",
       "    </tr>\n",
       "    <tr>\n",
       "      <th>3</th>\n",
       "      <td>0.03237</td>\n",
       "      <td>0.0</td>\n",
       "      <td>2.18</td>\n",
       "      <td>0</td>\n",
       "      <td>0.458</td>\n",
       "      <td>6.998</td>\n",
       "      <td>45.8</td>\n",
       "      <td>6.0622</td>\n",
       "      <td>3</td>\n",
       "      <td>222</td>\n",
       "      <td>18.7</td>\n",
       "      <td>394.63</td>\n",
       "      <td>2.94</td>\n",
       "      <td>33.4</td>\n",
       "      <td>1</td>\n",
       "      <td>NaN</td>\n",
       "      <td>NaN</td>\n",
       "    </tr>\n",
       "    <tr>\n",
       "      <th>4</th>\n",
       "      <td>0.06905</td>\n",
       "      <td>0.0</td>\n",
       "      <td>2.18</td>\n",
       "      <td>0</td>\n",
       "      <td>0.458</td>\n",
       "      <td>7.147</td>\n",
       "      <td>54.2</td>\n",
       "      <td>6.0622</td>\n",
       "      <td>3</td>\n",
       "      <td>222</td>\n",
       "      <td>18.7</td>\n",
       "      <td>396.90</td>\n",
       "      <td>5.33</td>\n",
       "      <td>36.2</td>\n",
       "      <td>1</td>\n",
       "      <td>NaN</td>\n",
       "      <td>NaN</td>\n",
       "    </tr>\n",
       "  </tbody>\n",
       "</table>\n",
       "</div>"
      ],
      "text/plain": [
       "      CRIM    ZN  INDUS  CHAS    NOX     RM   AGE     DIS  RAD  TAX  PTRATIO  \\\n",
       "0  0.00632  18.0   2.31     0  0.538  6.575  65.2  4.0900    1  296     15.3   \n",
       "1  0.02731   0.0   7.07     0  0.469  6.421  78.9  4.9671    2  242     17.8   \n",
       "2  0.02729   0.0   7.07     0  0.469  7.185  61.1  4.9671    2  242     17.8   \n",
       "3  0.03237   0.0   2.18     0  0.458  6.998  45.8  6.0622    3  222     18.7   \n",
       "4  0.06905   0.0   2.18     0  0.458  7.147  54.2  6.0622    3  222     18.7   \n",
       "\n",
       "        B  LSTAT  MEDV  CAT. MEDV  Unnamed: 15  Unnamed: 16  \n",
       "0  396.90   4.98  24.0          0          NaN          NaN  \n",
       "1  396.90   9.14  21.6          0          NaN          NaN  \n",
       "2  392.83   4.03  34.7          1          NaN          NaN  \n",
       "3  394.63   2.94  33.4          1          NaN          NaN  \n",
       "4  396.90   5.33  36.2          1          NaN          NaN  "
      ]
     },
     "execution_count": 2,
     "metadata": {},
     "output_type": "execute_result"
    }
   ],
   "source": [
    "advert = pd.read_csv('Boston.csv')\n",
    "advert.head()"
   ]
  },
  {
   "cell_type": "markdown",
   "metadata": {},
   "source": [
    "#### จากข้อมูลข้างต้นเป็น data type ประเภทใด"
   ]
  },
  {
   "cell_type": "markdown",
   "metadata": {},
   "source": [
    "1. พิจารณาว่าข้อมูลมีความสัมพัน์กันหรือไม่ โดย scattter plot\n",
    "(อย่างน้อย 4 ตัวแปรอิสระ)"
   ]
  },
  {
   "cell_type": "code",
   "execution_count": 7,
   "metadata": {},
   "outputs": [
    {
     "data": {
      "image/png": "[encoded data removed]",
      "text/plain": [
       "<Figure size 720x432 with 1 Axes>"
      ]
     },
     "metadata": {
      "needs_background": "light"
     },
     "output_type": "display_data"
    }
   ],
   "source": [
    "\n",
    "plt.scatter(x=advert['ZN'],y=advert['MEDV'],c='r',marker='P',label='label_col')\n",
    "plt.scatter(x=advert['AGE'],y=advert['MEDV'],c='b',marker='^',label='label_col')\n",
    "plt.scatter(x=advert['TAX'],y=advert['MEDV'],c='g',marker='s',label='label_col')\n",
    "\n",
    "\n",
    "\n",
    "#plt.legend(numpoints=1,loc=4)\n",
    "plt.legend(loc=4)\n",
    "plt.xlabel('Ad budget (Thousands of dollars)')\n",
    "plt.ylabel('Sales (units of product)')\n",
    "plt.show()"
   ]
  },
  {
   "cell_type": "markdown",
   "metadata": {},
   "source": [
    "#### 2. หาค่า correlation"
   ]
  },
  {
   "cell_type": "code",
   "execution_count": 3,
   "metadata": {},
   "outputs": [
    {
     "name": "stdout",
     "output_type": "stream",
     "text": [
      "                 CRIM        ZN     INDUS      CHAS       NOX        RM  \\\n",
      "CRIM         1.000000 -0.200469  0.406583 -0.055892  0.420972 -0.219247   \n",
      "ZN          -0.200469  1.000000 -0.533828 -0.042697 -0.516604  0.311991   \n",
      "INDUS        0.406583 -0.533828  1.000000  0.062938  0.763651 -0.391676   \n",
      "CHAS        -0.055892 -0.042697  0.062938  1.000000  0.091203  0.091251   \n",
      "NOX          0.420972 -0.516604  0.763651  0.091203  1.000000 -0.302188   \n",
      "RM          -0.219247  0.311991 -0.391676  0.091251 -0.302188  1.000000   \n",
      "AGE          0.352734 -0.569537  0.644779  0.086518  0.731470 -0.240265   \n",
      "DIS         -0.379670  0.664408 -0.708027 -0.099176 -0.769230  0.205246   \n",
      "RAD          0.625505 -0.311948  0.595129 -0.007368  0.611441 -0.209847   \n",
      "TAX          0.582764 -0.314563  0.720760 -0.035587  0.668023 -0.292048   \n",
      "PTRATIO      0.289946 -0.391679  0.383248 -0.121515  0.188933 -0.355501   \n",
      "B           -0.385064  0.175520 -0.356977  0.048788 -0.380051  0.128069   \n",
      "LSTAT        0.455621 -0.412995  0.603800 -0.053929  0.590879 -0.613808   \n",
      "MEDV        -0.388305  0.360445 -0.483725  0.175260 -0.427321  0.695360   \n",
      "CAT. MEDV   -0.151987  0.365296 -0.366276  0.108631 -0.232502  0.641265   \n",
      "Unnamed: 15       NaN       NaN       NaN       NaN       NaN       NaN   \n",
      "Unnamed: 16       NaN       NaN       NaN       NaN       NaN       NaN   \n",
      "\n",
      "                  AGE       DIS       RAD       TAX   PTRATIO         B  \\\n",
      "CRIM         0.352734 -0.379670  0.625505  0.582764  0.289946 -0.385064   \n",
      "ZN          -0.569537  0.664408 -0.311948 -0.314563 -0.391679  0.175520   \n",
      "INDUS        0.644779 -0.708027  0.595129  0.720760  0.383248 -0.356977   \n",
      "CHAS         0.086518 -0.099176 -0.007368 -0.035587 -0.121515  0.048788   \n",
      "NOX          0.731470 -0.769230  0.611441  0.668023  0.188933 -0.380051   \n",
      "RM          -0.240265  0.205246 -0.209847 -0.292048 -0.355501  0.128069   \n",
      "AGE          1.000000 -0.747881  0.456022  0.506456  0.261515 -0.273534   \n",
      "DIS         -0.747881  1.000000 -0.494588 -0.534432 -0.232471  0.291512   \n",
      "RAD          0.456022 -0.494588  1.000000  0.910228  0.464741 -0.444413   \n",
      "TAX          0.506456 -0.534432  0.910228  1.000000  0.460853 -0.441808   \n",
      "PTRATIO      0.261515 -0.232471  0.464741  0.460853  1.000000 -0.177383   \n",
      "B           -0.273534  0.291512 -0.444413 -0.441808 -0.177383  1.000000   \n",
      "LSTAT        0.602339 -0.496996  0.488676  0.543993  0.374044 -0.366087   \n",
      "MEDV        -0.376955  0.249929 -0.381626 -0.468536 -0.507787  0.333461   \n",
      "CAT. MEDV   -0.191196  0.118887 -0.197924 -0.273687 -0.443425  0.155137   \n",
      "Unnamed: 15       NaN       NaN       NaN       NaN       NaN       NaN   \n",
      "Unnamed: 16       NaN       NaN       NaN       NaN       NaN       NaN   \n",
      "\n",
      "                LSTAT      MEDV  CAT. MEDV  Unnamed: 15  Unnamed: 16  \n",
      "CRIM         0.455621 -0.388305  -0.151987          NaN          NaN  \n",
      "ZN          -0.412995  0.360445   0.365296          NaN          NaN  \n",
      "INDUS        0.603800 -0.483725  -0.366276          NaN          NaN  \n",
      "CHAS        -0.053929  0.175260   0.108631          NaN          NaN  \n",
      "NOX          0.590879 -0.427321  -0.232502          NaN          NaN  \n",
      "RM          -0.613808  0.695360   0.641265          NaN          NaN  \n",
      "AGE          0.602339 -0.376955  -0.191196          NaN          NaN  \n",
      "DIS         -0.496996  0.249929   0.118887          NaN          NaN  \n",
      "RAD          0.488676 -0.381626  -0.197924          NaN          NaN  \n",
      "TAX          0.543993 -0.468536  -0.273687          NaN          NaN  \n",
      "PTRATIO      0.374044 -0.507787  -0.443425          NaN          NaN  \n",
      "B           -0.366087  0.333461   0.155137          NaN          NaN  \n",
      "LSTAT        1.000000 -0.737663  -0.469911          NaN          NaN  \n",
      "MEDV        -0.737663  1.000000   0.789789          NaN          NaN  \n",
      "CAT. MEDV   -0.469911  0.789789   1.000000          NaN          NaN  \n",
      "Unnamed: 15       NaN       NaN        NaN          NaN          NaN  \n",
      "Unnamed: 16       NaN       NaN        NaN          NaN          NaN  \n"
     ]
    }
   ],
   "source": [
    "print(advert.corr())"
   ]
  },
  {
   "cell_type": "markdown",
   "metadata": {},
   "source": [
    "#### plot scatter matrix"
   ]
  },
  {
   "cell_type": "markdown",
   "metadata": {},
   "source": [
    "#### 3. พิจารณาว่าตัวแปรใดเป็นตัวแปรตาม และตัวแปรอิสระ \n",
    "#### เมื่อพิารณาได้แล้ว หา regression model เพื่อพยากรณ์ตัวแปรตามนั้น"
   ]
  },
  {
   "cell_type": "markdown",
   "metadata": {},
   "source": [
    "1. ตัวแปรตามคือ คือ MEDV\n",
    "2. ตัวแปรอิสระ คือ CRIM\tZN\tINDUS\tCHAS\tNOX\tRM\tAGE\tDIS\tRAD\tTAX\tPTRATIO\tB\tLSTAT"
   ]
  },
  {
   "cell_type": "code",
   "execution_count": 14,
   "metadata": {},
   "outputs": [
    {
     "name": "stdout",
     "output_type": "stream",
     "text": [
      "                            OLS Regression Results                            \n",
      "==============================================================================\n",
      "Dep. Variable:                   MEDV   R-squared:                       0.273\n",
      "Model:                            OLS   Adj. R-squared:                  0.269\n",
      "Method:                 Least Squares   F-statistic:                     62.89\n",
      "Date:                Thu, 22 Sep 2022   Prob (F-statistic):           1.56e-34\n",
      "Time:                        16:20:26   Log-Likelihood:                -1759.5\n",
      "No. Observations:                 506   AIC:                             3527.\n",
      "Df Residuals:                     502   BIC:                             3544.\n",
      "Df Model:                           3                                         \n",
      "Covariance Type:            nonrobust                                         \n",
      "==============================================================================\n",
      "                 coef    std err          t      P>|t|      [0.025      0.975]\n",
      "------------------------------------------------------------------------------\n",
      "Intercept     31.5071      1.322     23.828      0.000      28.909      34.105\n",
      "ZN             0.0795      0.018      4.351      0.000       0.044       0.115\n",
      "AGE           -0.0250      0.017     -1.503      0.134      -0.058       0.008\n",
      "TAX           -0.0200      0.002     -8.296      0.000      -0.025      -0.015\n",
      "==============================================================================\n",
      "Omnibus:                      203.569   Durbin-Watson:                   0.685\n",
      "Prob(Omnibus):                  0.000   Jarque-Bera (JB):              735.075\n",
      "Skew:                           1.870   Prob(JB):                    2.40e-160\n",
      "Kurtosis:                       7.568   Cond. No.                     1.69e+03\n",
      "==============================================================================\n",
      "\n",
      "Notes:\n",
      "[1] Standard Errors assume that the covariance matrix of the errors is correctly specified.\n",
      "[2] The condition number is large, 1.69e+03. This might indicate that there are\n",
      "strong multicollinearity or other numerical problems.\n"
     ]
    },
    {
     "name": "stderr",
     "output_type": "stream",
     "text": [
      "C:\\Users\\user\\AppData\\Local\\Temp\\ipykernel_11992\\55274228.py:15: UserWarning: color is redundantly defined by the 'color' keyword argument and the fmt string \"k\" (-> color=(0.0, 0.0, 0.0, 1)). The keyword argument will take precedence.\n",
      "  plt.plot(advert['ZN'],ZN_fit_model.predict(),'k',color='r',linewidth=3)\n",
      "C:\\Users\\user\\AppData\\Local\\Temp\\ipykernel_11992\\55274228.py:16: UserWarning: color is redundantly defined by the 'color' keyword argument and the fmt string \"k\" (-> color=(0.0, 0.0, 0.0, 1)). The keyword argument will take precedence.\n",
      "  plt.plot(advert['AGE'],AGE_fit_model.predict(),'k',color='g',linewidth=3)\n",
      "C:\\Users\\user\\AppData\\Local\\Temp\\ipykernel_11992\\55274228.py:17: UserWarning: color is redundantly defined by the 'color' keyword argument and the fmt string \"k\" (-> color=(0.0, 0.0, 0.0, 1)). The keyword argument will take precedence.\n",
      "  plt.plot(advert['ZN'],TAX_fit_model.predict(),'k',color='b',linewidth=3)\n"
     ]
    },
    {
     "data": {
      "image/png": "[encoded data removed]",
      "text/plain": [
       "<Figure size 720x432 with 1 Axes>"
      ]
     },
     "metadata": {
      "needs_background": "light"
     },
     "output_type": "display_data"
    }
   ],
   "source": [
    "ad_ZN_ols = sm.ols(formula=\"MEDV ~ ZN\", data=advert) \n",
    "ZN_fit_model = ad_ZN_ols.fit() # ปรับ model regression เพื่อให้ค่า error น้อยที่สุด\n",
    "ad_AGE_ols = sm.ols(formula=\"MEDV ~ AGE\", data=advert) \n",
    "AGE_fit_model = ad_AGE_ols.fit()\n",
    "ad_TAX_ols = sm.ols(formula=\"MEDV ~ TAX\", data=advert) \n",
    "TAX_fit_model = ad_TAX_ols.fit()\n",
    "ad_TR_ols = sm.ols(formula=\"MEDV ~ ZN + AGE + TAX\", data=advert).fit()\n",
    "print(ad_TR_ols.summary())\n",
    "\n",
    "plt.scatter(x=advert['ZN'],y=advert['MEDV'],c='r',marker='*',label='label_col')\n",
    "plt.scatter(x=advert['AGE'],y=advert['MEDV'],c='g',marker='*',label='label_col')\n",
    "plt.scatter(x=advert['TAX'],y=advert['MEDV'],c='b',marker='*',label='label_col')\n",
    "\n",
    "# plt.plot(advert['col'],col_fit_model.predict(),'k',color='blue',linewidth=3)\n",
    "plt.plot(advert['ZN'],ZN_fit_model.predict(),'k',color='r',linewidth=3)\n",
    "plt.plot(advert['AGE'],AGE_fit_model.predict(),'k',color='g',linewidth=3)\n",
    "plt.plot(advert['ZN'],TAX_fit_model.predict(),'k',color='b',linewidth=3)\n",
    "\n",
    "plt.xlabel('TV budget (Thousands of dollars)')\n",
    "plt.ylabel('Sales (Thousand units of product)')\n",
    "plt.show()"
   ]
  },
  {
   "cell_type": "markdown",
   "metadata": {},
   "source": [
    "#### OLS Regression Results"
   ]
  },
  {
   "cell_type": "code",
   "execution_count": 12,
   "metadata": {},
   "outputs": [
    {
     "data": {
      "text/html": [
       "<table class=\"simpletable\">\n",
       "<caption>OLS Regression Results</caption>\n",
       "<tr>\n",
       "  <th>Dep. Variable:</th>          <td>MEDV</td>       <th>  R-squared:         </th> <td>   0.273</td>\n",
       "</tr>\n",
       "<tr>\n",
       "  <th>Model:</th>                   <td>OLS</td>       <th>  Adj. R-squared:    </th> <td>   0.269</td>\n",
       "</tr>\n",
       "<tr>\n",
       "  <th>Method:</th>             <td>Least Squares</td>  <th>  F-statistic:       </th> <td>   62.89</td>\n",
       "</tr>\n",
       "<tr>\n",
       "  <th>Date:</th>             <td>Thu, 22 Sep 2022</td> <th>  Prob (F-statistic):</th> <td>1.56e-34</td>\n",
       "</tr>\n",
       "<tr>\n",
       "  <th>Time:</th>                 <td>16:13:34</td>     <th>  Log-Likelihood:    </th> <td> -1759.5</td>\n",
       "</tr>\n",
       "<tr>\n",
       "  <th>No. Observations:</th>      <td>   506</td>      <th>  AIC:               </th> <td>   3527.</td>\n",
       "</tr>\n",
       "<tr>\n",
       "  <th>Df Residuals:</th>          <td>   502</td>      <th>  BIC:               </th> <td>   3544.</td>\n",
       "</tr>\n",
       "<tr>\n",
       "  <th>Df Model:</th>              <td>     3</td>      <th>                     </th>     <td> </td>   \n",
       "</tr>\n",
       "<tr>\n",
       "  <th>Covariance Type:</th>      <td>nonrobust</td>    <th>                     </th>     <td> </td>   \n",
       "</tr>\n",
       "</table>\n",
       "<table class=\"simpletable\">\n",
       "<tr>\n",
       "      <td></td>         <th>coef</th>     <th>std err</th>      <th>t</th>      <th>P>|t|</th>  <th>[0.025</th>    <th>0.975]</th>  \n",
       "</tr>\n",
       "<tr>\n",
       "  <th>Intercept</th> <td>   31.5071</td> <td>    1.322</td> <td>   23.828</td> <td> 0.000</td> <td>   28.909</td> <td>   34.105</td>\n",
       "</tr>\n",
       "<tr>\n",
       "  <th>ZN</th>        <td>    0.0795</td> <td>    0.018</td> <td>    4.351</td> <td> 0.000</td> <td>    0.044</td> <td>    0.115</td>\n",
       "</tr>\n",
       "<tr>\n",
       "  <th>AGE</th>       <td>   -0.0250</td> <td>    0.017</td> <td>   -1.503</td> <td> 0.134</td> <td>   -0.058</td> <td>    0.008</td>\n",
       "</tr>\n",
       "<tr>\n",
       "  <th>TAX</th>       <td>   -0.0200</td> <td>    0.002</td> <td>   -8.296</td> <td> 0.000</td> <td>   -0.025</td> <td>   -0.015</td>\n",
       "</tr>\n",
       "</table>\n",
       "<table class=\"simpletable\">\n",
       "<tr>\n",
       "  <th>Omnibus:</th>       <td>203.569</td> <th>  Durbin-Watson:     </th> <td>   0.685</td> \n",
       "</tr>\n",
       "<tr>\n",
       "  <th>Prob(Omnibus):</th> <td> 0.000</td>  <th>  Jarque-Bera (JB):  </th> <td> 735.075</td> \n",
       "</tr>\n",
       "<tr>\n",
       "  <th>Skew:</th>          <td> 1.870</td>  <th>  Prob(JB):          </th> <td>2.40e-160</td>\n",
       "</tr>\n",
       "<tr>\n",
       "  <th>Kurtosis:</th>      <td> 7.568</td>  <th>  Cond. No.          </th> <td>1.69e+03</td> \n",
       "</tr>\n",
       "</table><br/><br/>Notes:<br/>[1] Standard Errors assume that the covariance matrix of the errors is correctly specified.<br/>[2] The condition number is large, 1.69e+03. This might indicate that there are<br/>strong multicollinearity or other numerical problems."
      ],
      "text/plain": [
       "<class 'statsmodels.iolib.summary.Summary'>\n",
       "\"\"\"\n",
       "                            OLS Regression Results                            \n",
       "==============================================================================\n",
       "Dep. Variable:                   MEDV   R-squared:                       0.273\n",
       "Model:                            OLS   Adj. R-squared:                  0.269\n",
       "Method:                 Least Squares   F-statistic:                     62.89\n",
       "Date:                Thu, 22 Sep 2022   Prob (F-statistic):           1.56e-34\n",
       "Time:                        16:13:34   Log-Likelihood:                -1759.5\n",
       "No. Observations:                 506   AIC:                             3527.\n",
       "Df Residuals:                     502   BIC:                             3544.\n",
       "Df Model:                           3                                         \n",
       "Covariance Type:            nonrobust                                         \n",
       "==============================================================================\n",
       "                 coef    std err          t      P>|t|      [0.025      0.975]\n",
       "------------------------------------------------------------------------------\n",
       "Intercept     31.5071      1.322     23.828      0.000      28.909      34.105\n",
       "ZN             0.0795      0.018      4.351      0.000       0.044       0.115\n",
       "AGE           -0.0250      0.017     -1.503      0.134      -0.058       0.008\n",
       "TAX           -0.0200      0.002     -8.296      0.000      -0.025      -0.015\n",
       "==============================================================================\n",
       "Omnibus:                      203.569   Durbin-Watson:                   0.685\n",
       "Prob(Omnibus):                  0.000   Jarque-Bera (JB):              735.075\n",
       "Skew:                           1.870   Prob(JB):                    2.40e-160\n",
       "Kurtosis:                       7.568   Cond. No.                     1.69e+03\n",
       "==============================================================================\n",
       "\n",
       "Notes:\n",
       "[1] Standard Errors assume that the covariance matrix of the errors is correctly specified.\n",
       "[2] The condition number is large, 1.69e+03. This might indicate that there are\n",
       "strong multicollinearity or other numerical problems.\n",
       "\"\"\""
      ]
     },
     "execution_count": 12,
     "metadata": {},
     "output_type": "execute_result"
    }
   ],
   "source": []
  },
  {
   "cell_type": "markdown",
   "metadata": {},
   "source": [
    "#### 4. เขียนสมการ Linear Regression ที่ได้จากข้อ 3"
   ]
  },
  {
   "cell_type": "code",
   "execution_count": 15,
   "metadata": {},
   "outputs": [
    {
     "data": {
      "text/html": [
       "<table class=\"simpletable\">\n",
       "<caption>OLS Regression Results</caption>\n",
       "<tr>\n",
       "  <th>Dep. Variable:</th>          <td>MEDV</td>       <th>  R-squared:         </th> <td>   0.273</td>\n",
       "</tr>\n",
       "<tr>\n",
       "  <th>Model:</th>                   <td>OLS</td>       <th>  Adj. R-squared:    </th> <td>   0.269</td>\n",
       "</tr>\n",
       "<tr>\n",
       "  <th>Method:</th>             <td>Least Squares</td>  <th>  F-statistic:       </th> <td>   62.89</td>\n",
       "</tr>\n",
       "<tr>\n",
       "  <th>Date:</th>             <td>Thu, 22 Sep 2022</td> <th>  Prob (F-statistic):</th> <td>1.56e-34</td>\n",
       "</tr>\n",
       "<tr>\n",
       "  <th>Time:</th>                 <td>16:25:39</td>     <th>  Log-Likelihood:    </th> <td> -1759.5</td>\n",
       "</tr>\n",
       "<tr>\n",
       "  <th>No. Observations:</th>      <td>   506</td>      <th>  AIC:               </th> <td>   3527.</td>\n",
       "</tr>\n",
       "<tr>\n",
       "  <th>Df Residuals:</th>          <td>   502</td>      <th>  BIC:               </th> <td>   3544.</td>\n",
       "</tr>\n",
       "<tr>\n",
       "  <th>Df Model:</th>              <td>     3</td>      <th>                     </th>     <td> </td>   \n",
       "</tr>\n",
       "<tr>\n",
       "  <th>Covariance Type:</th>      <td>nonrobust</td>    <th>                     </th>     <td> </td>   \n",
       "</tr>\n",
       "</table>\n",
       "<table class=\"simpletable\">\n",
       "<tr>\n",
       "      <td></td>         <th>coef</th>     <th>std err</th>      <th>t</th>      <th>P>|t|</th>  <th>[0.025</th>    <th>0.975]</th>  \n",
       "</tr>\n",
       "<tr>\n",
       "  <th>Intercept</th> <td>   31.5071</td> <td>    1.322</td> <td>   23.828</td> <td> 0.000</td> <td>   28.909</td> <td>   34.105</td>\n",
       "</tr>\n",
       "<tr>\n",
       "  <th>AGE</th>       <td>   -0.0250</td> <td>    0.017</td> <td>   -1.503</td> <td> 0.134</td> <td>   -0.058</td> <td>    0.008</td>\n",
       "</tr>\n",
       "<tr>\n",
       "  <th>ZN</th>        <td>    0.0795</td> <td>    0.018</td> <td>    4.351</td> <td> 0.000</td> <td>    0.044</td> <td>    0.115</td>\n",
       "</tr>\n",
       "<tr>\n",
       "  <th>TAX</th>       <td>   -0.0200</td> <td>    0.002</td> <td>   -8.296</td> <td> 0.000</td> <td>   -0.025</td> <td>   -0.015</td>\n",
       "</tr>\n",
       "</table>\n",
       "<table class=\"simpletable\">\n",
       "<tr>\n",
       "  <th>Omnibus:</th>       <td>203.569</td> <th>  Durbin-Watson:     </th> <td>   0.685</td> \n",
       "</tr>\n",
       "<tr>\n",
       "  <th>Prob(Omnibus):</th> <td> 0.000</td>  <th>  Jarque-Bera (JB):  </th> <td> 735.075</td> \n",
       "</tr>\n",
       "<tr>\n",
       "  <th>Skew:</th>          <td> 1.870</td>  <th>  Prob(JB):          </th> <td>2.40e-160</td>\n",
       "</tr>\n",
       "<tr>\n",
       "  <th>Kurtosis:</th>      <td> 7.568</td>  <th>  Cond. No.          </th> <td>1.69e+03</td> \n",
       "</tr>\n",
       "</table><br/><br/>Notes:<br/>[1] Standard Errors assume that the covariance matrix of the errors is correctly specified.<br/>[2] The condition number is large, 1.69e+03. This might indicate that there are<br/>strong multicollinearity or other numerical problems."
      ],
      "text/plain": [
       "<class 'statsmodels.iolib.summary.Summary'>\n",
       "\"\"\"\n",
       "                            OLS Regression Results                            \n",
       "==============================================================================\n",
       "Dep. Variable:                   MEDV   R-squared:                       0.273\n",
       "Model:                            OLS   Adj. R-squared:                  0.269\n",
       "Method:                 Least Squares   F-statistic:                     62.89\n",
       "Date:                Thu, 22 Sep 2022   Prob (F-statistic):           1.56e-34\n",
       "Time:                        16:25:39   Log-Likelihood:                -1759.5\n",
       "No. Observations:                 506   AIC:                             3527.\n",
       "Df Residuals:                     502   BIC:                             3544.\n",
       "Df Model:                           3                                         \n",
       "Covariance Type:            nonrobust                                         \n",
       "==============================================================================\n",
       "                 coef    std err          t      P>|t|      [0.025      0.975]\n",
       "------------------------------------------------------------------------------\n",
       "Intercept     31.5071      1.322     23.828      0.000      28.909      34.105\n",
       "AGE           -0.0250      0.017     -1.503      0.134      -0.058       0.008\n",
       "ZN             0.0795      0.018      4.351      0.000       0.044       0.115\n",
       "TAX           -0.0200      0.002     -8.296      0.000      -0.025      -0.015\n",
       "==============================================================================\n",
       "Omnibus:                      203.569   Durbin-Watson:                   0.685\n",
       "Prob(Omnibus):                  0.000   Jarque-Bera (JB):              735.075\n",
       "Skew:                           1.870   Prob(JB):                    2.40e-160\n",
       "Kurtosis:                       7.568   Cond. No.                     1.69e+03\n",
       "==============================================================================\n",
       "\n",
       "Notes:\n",
       "[1] Standard Errors assume that the covariance matrix of the errors is correctly specified.\n",
       "[2] The condition number is large, 1.69e+03. This might indicate that there are\n",
       "strong multicollinearity or other numerical problems.\n",
       "\"\"\""
      ]
     },
     "execution_count": 15,
     "metadata": {},
     "output_type": "execute_result"
    }
   ],
   "source": [
    "ad_TR_ols = sm.ols(formula=\"MEDV ~ AGE + ZN +TAX\", data=advert).fit()\n",
    "ad_TR_ols.summary()"
   ]
  },
  {
   "cell_type": "code",
   "execution_count": 18,
   "metadata": {},
   "outputs": [],
   "source": [
    "# MEDV = 31.5071+0.0250*AGE+0.0795∗ZN+-0.0200∗TAX"
   ]
  },
  {
   "cell_type": "markdown",
   "metadata": {},
   "source": [
    "#### 5. ถ้ามีข้อมูลใหม่ดังนี้  แบบ 1\n",
    "CRIM: 0.21124\n",
    "1. ZN: 18\n",
    "2. INDUS: 7.87\n",
    "3. CHAS: 0\n",
    "4. NOX: 0.538\n",
    "5. RM: 7.147\n",
    "6. AGE: 65.2\n",
    "7. DIS: 4.09\n",
    "8. RAD: 5\n",
    "9. TAX: 311\n",
    "10. PTRATIO: 18.7\n",
    "11. B: 396.9\n",
    "12. LSTAT:2.94\n",
    "#### ใช้สมการที่ได้้จากข้อ 4 คำนวณข้อมูลใหม่ดังกล่าว "
   ]
  },
  {
   "cell_type": "markdown",
   "metadata": {},
   "source": [
    "OLS Regression Results (predict)"
   ]
  },
  {
   "cell_type": "code",
   "execution_count": 22,
   "metadata": {},
   "outputs": [],
   "source": [
    "df ={\"ZN\":[18],\"INDUS\": [7.87],\"CHAS\": [0],\"NOX\": [0.538],\"RM\": [7.147],\"AGE\": [65.2],\"DIS\": [4.09],\"RAD\": [5],\"TAX\": [311],\"PTRATIO\": [18.7],\"B\": [396.9],\"LSTAT\":[2.94]}"
   ]
  },
  {
   "cell_type": "code",
   "execution_count": 30,
   "metadata": {},
   "outputs": [
    {
     "data": {
      "text/plain": [
       "0    25.088611\n",
       "dtype: float64"
      ]
     },
     "execution_count": 30,
     "metadata": {},
     "output_type": "execute_result"
    }
   ],
   "source": [
    "new = pd.DataFrame(df)\n",
    "ad_TR_ols.predict(new)"
   ]
  },
  {
   "cell_type": "code",
   "execution_count": null,
   "metadata": {},
   "outputs": [],
   "source": []
  }
 ],
 "metadata": {
  "colab": {
   "name": "เฉลย_08-Lab-LinearRegression-Answers-1-Mar-2022.ipynb",
   "provenance": []
  },
  "kernelspec": {
   "display_name": "Python 3 (ipykernel)",
   "language": "python",
   "name": "python3"
  },
  "language_info": {
   "codemirror_mode": {
    "name": "ipython",
    "version": 3
   },
   "file_extension": ".py",
   "mimetype": "text/x-python",
   "name": "python",
   "nbconvert_exporter": "python",
   "pygments_lexer": "ipython3",
   "version": "3.9.5"
  }
 },
 "nbformat": 4,
 "nbformat_minor": 1
}
