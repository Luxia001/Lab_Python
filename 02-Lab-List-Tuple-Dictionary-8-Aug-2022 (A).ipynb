{
 "cells": [
  {
   "cell_type": "markdown",
   "id": "922dd82d",
   "metadata": {},
   "source": [
    "# 620710467-Panuwat-Wichitsiriwat (Heading)"
   ]
  },
  {
   "cell_type": "markdown",
   "id": "2c1b49f2",
   "metadata": {},
   "source": [
    "ในการทำแบบฝึกหัดให้เพิ่ม cell ด้านล่างของโจทย์เพื่อเขียน code"
   ]
  },
  {
   "cell_type": "markdown",
   "id": "9ff829b2",
   "metadata": {},
   "source": [
    "สร้าง list เพื่อเก็บชื่อผลไม้\n",
    "\"apple\", \"banana\", \"cherry\", \"orange\", \"kiwi\", \"melon\""
   ]
  },
  {
   "cell_type": "code",
   "execution_count": 1,
   "id": "35c22f7a-6f9f-4d95-93d7-f99adcddbd51",
   "metadata": {},
   "outputs": [],
   "source": [
    "fruit = [\"apple\", \"banana\", \"cherry\", \"orange\", \"kiwi\", \"melon\"]"
   ]
  },
  {
   "cell_type": "markdown",
   "id": "079c4d15",
   "metadata": {},
   "source": [
    "1.พิมพ์ขนาดของ List สร้าง"
   ]
  },
  {
   "cell_type": "code",
   "execution_count": 2,
   "id": "20322071-041c-4b49-80c2-065c0f8dbbbb",
   "metadata": {},
   "outputs": [
    {
     "data": {
      "text/plain": [
       "6"
      ]
     },
     "execution_count": 2,
     "metadata": {},
     "output_type": "execute_result"
    }
   ],
   "source": [
    "len(fruit)"
   ]
  },
  {
   "cell_type": "markdown",
   "id": "0c9e4bb9",
   "metadata": {},
   "source": [
    "2.เพิ่มข้อมูล \"mango\" ต่อจาก index(ตำแหน่ง) สุดท้ายเก็บไว้ใน List ที่สร้าง"
   ]
  },
  {
   "cell_type": "code",
   "execution_count": 3,
   "id": "406f0779-307d-4219-b156-382e88d802d7",
   "metadata": {},
   "outputs": [],
   "source": [
    "fruit.append('mango')"
   ]
  },
  {
   "cell_type": "markdown",
   "id": "3c512f72",
   "metadata": {},
   "source": [
    "3.พิมพ์ข้อมูลที่อยู่ใน List ที่สร้างทุกตัว"
   ]
  },
  {
   "cell_type": "code",
   "execution_count": 4,
   "id": "5a15e14f-4433-4c3e-8ce8-f7cde4d57a47",
   "metadata": {},
   "outputs": [
    {
     "name": "stdout",
     "output_type": "stream",
     "text": [
      "['apple', 'banana', 'cherry', 'orange', 'kiwi', 'melon', 'mango']\n"
     ]
    }
   ],
   "source": [
    "print(fruit)"
   ]
  },
  {
   "cell_type": "markdown",
   "id": "9e15e6ed",
   "metadata": {},
   "source": [
    "สร้าง set จากรายชื่อกลุ่มโจรสลัดหมวกฟาง\n",
    "\"Usopp\", \"Sanji\", \"Chopper\""
   ]
  },
  {
   "cell_type": "code",
   "execution_count": 5,
   "id": "6b16aff2-12df-43f0-bca5-2ff37c924280",
   "metadata": {},
   "outputs": [],
   "source": [
    "pirate = {\"Usopp\", \"Sanji\", \"Chopper\"}"
   ]
  },
  {
   "cell_type": "markdown",
   "id": "6d9fb978",
   "metadata": {},
   "source": [
    "4.เพิ่ม \"Nami\" และ \"Luffy\" เข้าไปใน set ของกลุ่มโจรสลัดหมวกฟาง"
   ]
  },
  {
   "cell_type": "code",
   "execution_count": 6,
   "id": "6aba3775-188e-4460-be39-09fa85e6012c",
   "metadata": {},
   "outputs": [],
   "source": [
    "pirate.add('Nami')\n",
    "pirate.add('Luffy')"
   ]
  },
  {
   "cell_type": "markdown",
   "id": "736dbe98",
   "metadata": {},
   "source": [
    "5.ลบข้อมูล \"Usopp\" ออกจาก set ของกลุ่มโจรสลัดหมวกฟาง"
   ]
  },
  {
   "cell_type": "code",
   "execution_count": 7,
   "id": "819d9768-2e04-4746-a170-fe7799f536ba",
   "metadata": {},
   "outputs": [],
   "source": [
    "pirate.remove('Usopp')"
   ]
  },
  {
   "cell_type": "markdown",
   "id": "5a2b5fd8",
   "metadata": {},
   "source": [
    "สร้าง Dictionaries จากข้อมูลด้านล่างด้วยรูปแบบ key,value กำหนดให้\n",
    "name : Loid,\n",
    "family name : Forger,\n",
    "year : 1964"
   ]
  },
  {
   "cell_type": "code",
   "execution_count": 8,
   "id": "7e24a29e-5a74-4b0e-9a25-b25c8cd96446",
   "metadata": {},
   "outputs": [],
   "source": [
    "sxf = {'name':'Loid','name':'Forger','year':'1964'}"
   ]
  },
  {
   "cell_type": "markdown",
   "id": "bff3f6a3",
   "metadata": {},
   "source": [
    "6.พิมพ์ค่า key และ value ทั้งหมดใน Dictionaries ที่สร้าง"
   ]
  },
  {
   "cell_type": "code",
   "execution_count": 9,
   "id": "459fe10d-3bca-4d55-83fb-2b5155bb64f2",
   "metadata": {},
   "outputs": [
    {
     "name": "stdout",
     "output_type": "stream",
     "text": [
      "name year "
     ]
    }
   ],
   "source": [
    "for i in sxf.keys() :\n",
    "    print(i,end=\" \")"
   ]
  },
  {
   "cell_type": "code",
   "execution_count": 10,
   "id": "66a937e3-f94e-4fee-9e75-a5d411a055ac",
   "metadata": {},
   "outputs": [
    {
     "name": "stdout",
     "output_type": "stream",
     "text": [
      "Forger 1964 "
     ]
    }
   ],
   "source": [
    "for j in sxf.values() :\n",
    "    print(j,end=\" \")"
   ]
  },
  {
   "cell_type": "markdown",
   "id": "6bb0e521",
   "metadata": {},
   "source": [
    "7.เปลี่ยนชื่อ (name) และปี (year) ใน Dictionaries เป็น Anya และ 2016"
   ]
  },
  {
   "cell_type": "code",
   "execution_count": 12,
   "id": "50bb50d4-b1b2-4e5b-836a-3b61bce1a148",
   "metadata": {},
   "outputs": [
    {
     "name": "stdout",
     "output_type": "stream",
     "text": [
      "{'name': 'Anya', 'year': '2016'}\n"
     ]
    }
   ],
   "source": [
    "sxf.update({'name':'Anya'})\n",
    "sxf.update({'year':'2016'})\n",
    "print(sxf)"
   ]
  },
  {
   "cell_type": "code",
   "execution_count": null,
   "id": "01912f10-1aab-40bd-b0f1-78932c258afd",
   "metadata": {},
   "outputs": [],
   "source": []
  }
 ],
 "metadata": {
  "kernelspec": {
   "display_name": "Python 3 (ipykernel)",
   "language": "python",
   "name": "python3"
  },
  "language_info": {
   "codemirror_mode": {
    "name": "ipython",
    "version": 3
   },
   "file_extension": ".py",
   "mimetype": "text/x-python",
   "name": "python",
   "nbconvert_exporter": "python",
   "pygments_lexer": "ipython3",
   "version": "3.9.5"
  }
 },
 "nbformat": 4,
 "nbformat_minor": 5
}
