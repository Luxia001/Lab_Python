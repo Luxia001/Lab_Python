{
 "cells": [
  {
   "cell_type": "code",
   "execution_count": 1,
   "metadata": {},
   "outputs": [],
   "source": [
    "import pandas as pd\n",
    "import numpy as np"
   ]
  },
  {
   "cell_type": "code",
   "execution_count": 5,
   "metadata": {},
   "outputs": [
    {
     "name": "stdout",
     "output_type": "stream",
     "text": [
      "     outlook temperature humidity   windy play\n",
      "0      sunny         hot     high    weak   no\n",
      "1      sunny         hot     high  strong   no\n",
      "2   overcast         hot     high    weak  yes\n",
      "3      rainy        mild     high    weak  yes\n",
      "4      rainy        cool   normal    weak  yes\n",
      "5      rainy        cool   normal  strong   no\n",
      "6   overcast        cool   normal  strong  yes\n",
      "7      sunny        mild     high    weak   no\n",
      "8      sunny        cool   normal    weak  yes\n",
      "9      rainy        mild   normal    weak  yes\n",
      "10     sunny        mild   normal  strong  yes\n",
      "11  overcast        mild     high  strong  yes\n",
      "12  overcast         hot   normal    weak  yes\n",
      "13     rainy        mild     high  strong   no\n"
     ]
    }
   ],
   "source": [
    "play_tennis  = pd.read_csv('play_tennis.csv')\n",
    "print(play_tennis)"
   ]
  },
  {
   "cell_type": "code",
   "execution_count": 6,
   "metadata": {},
   "outputs": [
    {
     "name": "stdout",
     "output_type": "stream",
     "text": [
      "    outlook  temperature  humidity  windy play\n",
      "0         2            1         0      1   no\n",
      "1         2            1         0      0   no\n",
      "2         0            1         0      1  yes\n",
      "3         1            2         0      1  yes\n",
      "4         1            0         1      1  yes\n",
      "5         1            0         1      0   no\n",
      "6         0            0         1      0  yes\n",
      "7         2            2         0      1   no\n",
      "8         2            0         1      1  yes\n",
      "9         1            2         1      1  yes\n",
      "10        2            2         1      0  yes\n",
      "11        0            2         0      0  yes\n",
      "12        0            1         1      1  yes\n",
      "13        1            2         0      0   no\n"
     ]
    }
   ],
   "source": [
    "# encode temp and play columns.\n",
    "# Converting string labels into numbers\n",
    "\n",
    "# Import LabelEncoder\n",
    "from sklearn import preprocessing\n",
    "\n",
    "#creating labelEncoder\n",
    "number = preprocessing.LabelEncoder()\n",
    "\n",
    "play_tennis['outlook'] = number.fit_transform(play_tennis['outlook'])\n",
    "play_tennis['temperature'] = number.fit_transform(play_tennis['temperature'])\n",
    "play_tennis['humidity'] = number.fit_transform(play_tennis['humidity'])\n",
    "play_tennis['windy'] = number.fit_transform(play_tennis['windy'])\n",
    "#play_tennis['play'] = number.fit_transform(play_tennis['play'])\n",
    "\n",
    "print(play_tennis)"
   ]
  },
  {
   "cell_type": "markdown",
   "metadata": {},
   "source": [
    "sklearn library, which can be found in sklearn.naive_bayes:\n",
    "\n",
    "sklearn.naive_bayes.CategoricalNB: \n",
    "    for using Naive Bayes on categorical predictor variables.\n",
    "            \n",
    "sklearn.naive_bayes.GaussianNB: \n",
    "    for Naive Bayes on numerical predictor variables, with the assumption \n",
    "    that these variables follow Gaussian distribution.\n",
    "    \n",
    "sklearn.naive_bayes.MultinomialNB: \n",
    "    the predictor variables represent the counts, a popular application \n",
    "    is in text classification. Fractional counts like tf-idf may also work.\n",
    "    \n",
    "sklearn.naive_bayes.ComplementNB: \n",
    "    A modification of MultinomialNB which is suitable for imbalanced datasets.\n",
    "    \n",
    "sklearn.naive_bayes.BernoulliNB: \n",
    "    assumes the data follows Bernoulli distribution (i.e. possible values of \n",
    "    predictor variables are 0 and 1)."
   ]
  },
  {
   "cell_type": "code",
   "execution_count": 7,
   "metadata": {},
   "outputs": [],
   "source": [
    "#Import Library of Naive Bayes\n",
    "from sklearn.naive_bayes import GaussianNB, BernoulliNB, MultinomialNB, CategoricalNB\n",
    "\n",
    "# 70% training and 30% test# 70% training and 30% test\n",
    "Gaussian_NB = GaussianNB()\n",
    "Bernoulli_NB = BernoulliNB()\n",
    "Multinomial_NB = MultinomialNB()\n",
    "Categorical_NB = CategoricalNB()\n"
   ]
  },
  {
   "attachments": {
    "image_2_rrxvol.webp": {
     "image/webp": "[encoded data removed]"
    }
   },
   "cell_type": "markdown",
   "metadata": {},
   "source": [
    "![image_2_rrxvol.webp](attachment:image_2_rrxvol.webp)"
   ]
  },
  {
   "attachments": {
    "image.png": {
     "image/png": "[encoded data removed]"
    }
   },
   "cell_type": "markdown",
   "metadata": {},
   "source": [
    "![image.png](attachment:image.png)"
   ]
  },
  {
   "cell_type": "code",
   "execution_count": 8,
   "metadata": {},
   "outputs": [
    {
     "name": "stdout",
     "output_type": "stream",
     "text": [
      "9 5 9 5\n"
     ]
    }
   ],
   "source": [
    "# Import train_test_split function\n",
    "\n",
    "from sklearn.model_selection import train_test_split\n",
    "\n",
    "X = play_tennis[['outlook','temperature', 'humidity','windy']]\n",
    "Y = play_tennis['play']\n",
    "\n",
    "\n",
    "# แบ่งข้อมูลที่ใช้สำหรับการสอน training set 70% \n",
    "# ข้อมูลที่ใช้สำหรับการทดสอบ test set 30%\n",
    "# random_state = 3 หมายถึงกำหนดเลขสุมขึ้นมาเพื่อให้ข้อมูล training และ test set มีสมาชิกตัวเดิม\n",
    "\n",
    "# train_test_split(X,Y,test_size=0.3,random_state=5)\n",
    "\n",
    "X_train, X_test, y_train, y_test = train_test_split(X,Y,test_size=0.3,random_state=5)\n",
    "\n",
    "print(len(X_train),len(X_test),len(y_train),len(y_test))"
   ]
  },
  {
   "cell_type": "code",
   "execution_count": 9,
   "metadata": {},
   "outputs": [
    {
     "name": "stdout",
     "output_type": "stream",
     "text": [
      "0.8888888888888888\n",
      "0.6\n"
     ]
    }
   ],
   "source": [
    "#Train the model using the training sets\n",
    "# .fit(x-train,y-train)\n",
    "Gaussian_NB.fit(X_train,y_train)\n",
    "Bernoulli_NB.fit(X_train,y_train)\n",
    "Multinomial_NB.fit(X_train,y_train)\n",
    "Categorical_NB.fit(X_train,y_train)\n",
    "\n",
    "\n",
    "#Predict the response for test dataset\n",
    "Y_Predict_GNB = Gaussian_NB.predict(X_test)\n",
    "Y_Predict_BNB = Bernoulli_NB.predict(X_test)\n",
    "Y_Predict_MNB = Multinomial_NB.predict(X_test)\n",
    "Y_Predict_CNB = Categorical_NB.predict(X_test)\n",
    "\n",
    "\n",
    "print(Bernoulli_NB.score(X_train,y_train))\n",
    "print(Bernoulli_NB.score(X_test,y_test))"
   ]
  },
  {
   "cell_type": "code",
   "execution_count": 10,
   "metadata": {},
   "outputs": [
    {
     "name": "stdout",
     "output_type": "stream",
     "text": [
      "Gaussian Accuracy: 0.6\n",
      "Bernoulli Accuracy: 0.6\n",
      "Multinomial Accuracy: 0.6\n",
      "Categorical Accuracy: 0.6\n"
     ]
    }
   ],
   "source": [
    "#Evaluating Model\n",
    "\n",
    "from sklearn import metrics\n",
    "\n",
    "# Model Accuracy, how often is the classifier correct?\n",
    "print(\"Gaussian Accuracy:\",metrics.accuracy_score(y_test, Y_Predict_GNB))\n",
    "print(\"Bernoulli Accuracy:\",metrics.accuracy_score(y_test, Y_Predict_GNB))\n",
    "print(\"Multinomial Accuracy:\",metrics.accuracy_score(y_test, Y_Predict_GNB))\n",
    "print(\"Categorical Accuracy:\",metrics.accuracy_score(y_test, Y_Predict_GNB))"
   ]
  },
  {
   "cell_type": "markdown",
   "metadata": {},
   "source": [
    "<img src=\"matrix.jpg\" width=\"400\" height=\"1000\">"
   ]
  },
  {
   "cell_type": "code",
   "execution_count": 11,
   "metadata": {},
   "outputs": [
    {
     "data": {
      "text/plain": [
       "array([[1, 2],\n",
       "       [0, 2]], dtype=int64)"
      ]
     },
     "execution_count": 11,
     "metadata": {},
     "output_type": "execute_result"
    }
   ],
   "source": [
    "confusion_matrix = metrics.confusion_matrix(y_test, Y_Predict_BNB)\n",
    "confusion_matrix"
   ]
  },
  {
   "cell_type": "code",
   "execution_count": 12,
   "metadata": {},
   "outputs": [
    {
     "data": {
      "image/png": "[encoded data removed]",
      "text/plain": [
       "<Figure size 432x288 with 2 Axes>"
      ]
     },
     "metadata": {
      "needs_background": "light"
     },
     "output_type": "display_data"
    }
   ],
   "source": [
    "import matplotlib.pyplot as plt\n",
    "cm_display = metrics.ConfusionMatrixDisplay(confusion_matrix = confusion_matrix, display_labels = ['play', 'no play'])\n",
    "\n",
    "cm_display.plot()\n",
    "plt.show()"
   ]
  },
  {
   "cell_type": "code",
   "execution_count": 13,
   "metadata": {},
   "outputs": [
    {
     "name": "stdout",
     "output_type": "stream",
     "text": [
      "KNN Accuracy: 0.4\n"
     ]
    }
   ],
   "source": [
    "#Import Library of K-Nearest Neighbor model\n",
    "from sklearn.neighbors import KNeighborsClassifier\n",
    "\n",
    "#Create a KNN Classifier\n",
    "KNN_model = KNeighborsClassifier(n_neighbors=3)\n",
    "KNN_model.fit(X_train,y_train)\n",
    "\n",
    "# predict(...)\n",
    "Y_Predict_KNN =KNN_model.predict(X_test)\n",
    "print(\"KNN Accuracy:\",metrics.accuracy_score(y_test, Y_Predict_KNN))"
   ]
  },
  {
   "cell_type": "code",
   "execution_count": 14,
   "metadata": {},
   "outputs": [
    {
     "name": "stdout",
     "output_type": "stream",
     "text": [
      "Predicted Value: ['yes' 'yes']\n"
     ]
    },
    {
     "name": "stderr",
     "output_type": "stream",
     "text": [
      "C:\\Users\\user\\miniconda3\\lib\\site-packages\\sklearn\\base.py:450: UserWarning: X does not have valid feature names, but BernoulliNB was fitted with feature names\n",
      "  warnings.warn(\n"
     ]
    }
   ],
   "source": [
    "#Predict new data ใช้ Bernoulli NB\n",
    "# [[1,1,0,1],[2,2,1,0] ] # 1:rain, 1:hot, 0:high, 1:weak\n",
    "predicted= Bernoulli_NB.predict([[1,1,0,1],[2,2,1,0] ])\n",
    "print(\"Predicted Value:\", predicted)"
   ]
  },
  {
   "cell_type": "code",
   "execution_count": 15,
   "metadata": {},
   "outputs": [
    {
     "name": "stdout",
     "output_type": "stream",
     "text": [
      "Predicted Value: ['yes' 'no' 'yes']\n"
     ]
    },
    {
     "name": "stderr",
     "output_type": "stream",
     "text": [
      "C:\\Users\\user\\miniconda3\\lib\\site-packages\\sklearn\\base.py:450: UserWarning: X does not have valid feature names, but BernoulliNB was fitted with feature names\n",
      "  warnings.warn(\n"
     ]
    }
   ],
   "source": [
    "#Predict new data ใช้ Bernoulli NB\n",
    "# [[0,0,0,1],[1,1,0,0],[2,2,0,1] ] # 1:rain, 1:hot, 0:high, 1:weak\n",
    "\n",
    "predicted= Bernoulli_NB.predict([[0,0,0,1],[1,1,0,0],[2,2,0,1] ])\n",
    "print(\"Predicted Value:\", predicted)"
   ]
  },
  {
   "cell_type": "code",
   "execution_count": null,
   "metadata": {},
   "outputs": [],
   "source": []
  }
 ],
 "metadata": {
  "kernelspec": {
   "display_name": "Python 3 (ipykernel)",
   "language": "python",
   "name": "python3"
  },
  "language_info": {
   "codemirror_mode": {
    "name": "ipython",
    "version": 3
   },
   "file_extension": ".py",
   "mimetype": "text/x-python",
   "name": "python",
   "nbconvert_exporter": "python",
   "pygments_lexer": "ipython3",
   "version": "3.9.5"
  }
 },
 "nbformat": 4,
 "nbformat_minor": 2
}
